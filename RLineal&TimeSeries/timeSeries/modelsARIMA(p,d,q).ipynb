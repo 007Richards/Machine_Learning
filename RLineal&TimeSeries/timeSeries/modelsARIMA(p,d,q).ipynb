{
 "cells": [
  {
   "cell_type": "code",
   "execution_count": 1,
   "id": "10d292c3-514e-4c4c-9a6d-f678e6e0042a",
   "metadata": {},
   "outputs": [
    {
     "data": {
      "text/html": [
       "<div>\n",
       "<style scoped>\n",
       "    .dataframe tbody tr th:only-of-type {\n",
       "        vertical-align: middle;\n",
       "    }\n",
       "\n",
       "    .dataframe tbody tr th {\n",
       "        vertical-align: top;\n",
       "    }\n",
       "\n",
       "    .dataframe thead th {\n",
       "        text-align: right;\n",
       "    }\n",
       "</style>\n",
       "<table border=\"1\" class=\"dataframe\">\n",
       "  <thead>\n",
       "    <tr style=\"text-align: right;\">\n",
       "      <th></th>\n",
       "      <th>Average</th>\n",
       "    </tr>\n",
       "    <tr>\n",
       "      <th>Year</th>\n",
       "      <th></th>\n",
       "    </tr>\n",
       "  </thead>\n",
       "  <tbody>\n",
       "    <tr>\n",
       "      <th>1870</th>\n",
       "      <td>53.60</td>\n",
       "    </tr>\n",
       "    <tr>\n",
       "      <th>1871</th>\n",
       "      <td>51.13</td>\n",
       "    </tr>\n",
       "    <tr>\n",
       "      <th>1872</th>\n",
       "      <td>50.98</td>\n",
       "    </tr>\n",
       "    <tr>\n",
       "      <th>1873</th>\n",
       "      <td>50.98</td>\n",
       "    </tr>\n",
       "    <tr>\n",
       "      <th>1874</th>\n",
       "      <td>51.34</td>\n",
       "    </tr>\n",
       "  </tbody>\n",
       "</table>\n",
       "</div>"
      ],
      "text/plain": [
       "      Average\n",
       "Year         \n",
       "1870    53.60\n",
       "1871    51.13\n",
       "1872    50.98\n",
       "1873    50.98\n",
       "1874    51.34"
      ]
     },
     "execution_count": 1,
     "metadata": {},
     "output_type": "execute_result"
    }
   ],
   "source": [
    "import pandas as pd \n",
    "import os\n",
    "import warnings\n",
    "warnings.filterwarnings('ignore')\n",
    "\n",
    "os.chdir('/Users/admin/Downloads/EBAC/dataframesEbac')\n",
    "df = pd.read_csv(\"TempNY.csv\")\n",
    "df = df.drop('Unnamed: 2', axis = 1)\n",
    "df.index = df['Year']\n",
    "df = df.drop('Year', axis = 1)\n",
    "df.head()"
   ]
  },
  {
   "cell_type": "code",
   "execution_count": 2,
   "id": "9db85012-d836-498e-b1e4-13a4292b3bc6",
   "metadata": {},
   "outputs": [],
   "source": [
    "# Definicion de grupos de prueba y entrenamiento\n",
    "len_train = int(len(df)* 0.9)\n",
    "len_test = int(len(df)*0.1)\n",
    "train = df[0:len_train]\n",
    "test = df[len_train:]"
   ]
  },
  {
   "cell_type": "code",
   "execution_count": 3,
   "id": "cc82828c-6f3c-405e-b21c-1228b163bc3b",
   "metadata": {},
   "outputs": [
    {
     "name": "stdout",
     "output_type": "stream",
     "text": [
      "El valor p de la prueba de Dickey-Fuller es: 0.8417172538965356\n"
     ]
    }
   ],
   "source": [
    "from statsmodels.tsa.stattools import adfuller\n",
    "result = adfuller(df[\"Average\"])\n",
    "print(\"El valor p de la prueba de Dickey-Fuller es:\", result[1])"
   ]
  },
  {
   "cell_type": "markdown",
   "id": "9aa4f45f-de87-40d9-b617-0c9b3d33eef5",
   "metadata": {},
   "source": [
    "### Conclusion: No hay evidencia estadistica para rechazar H0 (y por lo tanto decir que la serie es estacionaria)"
   ]
  },
  {
   "cell_type": "code",
   "execution_count": 5,
   "id": "938d384e-1cd9-4991-a219-2526ffe565b9",
   "metadata": {},
   "outputs": [
    {
     "data": {
      "text/html": [
       "<div>\n",
       "<style scoped>\n",
       "    .dataframe tbody tr th:only-of-type {\n",
       "        vertical-align: middle;\n",
       "    }\n",
       "\n",
       "    .dataframe tbody tr th {\n",
       "        vertical-align: top;\n",
       "    }\n",
       "\n",
       "    .dataframe thead th {\n",
       "        text-align: right;\n",
       "    }\n",
       "</style>\n",
       "<table border=\"1\" class=\"dataframe\">\n",
       "  <thead>\n",
       "    <tr style=\"text-align: right;\">\n",
       "      <th></th>\n",
       "      <th>Average</th>\n",
       "      <th>temp_change</th>\n",
       "    </tr>\n",
       "    <tr>\n",
       "      <th>Year</th>\n",
       "      <th></th>\n",
       "      <th></th>\n",
       "    </tr>\n",
       "  </thead>\n",
       "  <tbody>\n",
       "    <tr>\n",
       "      <th>1871</th>\n",
       "      <td>51.13</td>\n",
       "      <td>-2.47</td>\n",
       "    </tr>\n",
       "    <tr>\n",
       "      <th>1872</th>\n",
       "      <td>50.98</td>\n",
       "      <td>-0.15</td>\n",
       "    </tr>\n",
       "    <tr>\n",
       "      <th>1873</th>\n",
       "      <td>50.98</td>\n",
       "      <td>0.00</td>\n",
       "    </tr>\n",
       "    <tr>\n",
       "      <th>1874</th>\n",
       "      <td>51.34</td>\n",
       "      <td>0.36</td>\n",
       "    </tr>\n",
       "    <tr>\n",
       "      <th>1875</th>\n",
       "      <td>49.43</td>\n",
       "      <td>-1.91</td>\n",
       "    </tr>\n",
       "  </tbody>\n",
       "</table>\n",
       "</div>"
      ],
      "text/plain": [
       "      Average  temp_change\n",
       "Year                      \n",
       "1871    51.13        -2.47\n",
       "1872    50.98        -0.15\n",
       "1873    50.98         0.00\n",
       "1874    51.34         0.36\n",
       "1875    49.43        -1.91"
      ]
     },
     "execution_count": 5,
     "metadata": {},
     "output_type": "execute_result"
    }
   ],
   "source": [
    "# Aplicar primeras diferancias\n",
    "df[\"temp_change\"] = df['Average'].diff()\n",
    "df = df.dropna()\n",
    "df.head()"
   ]
  },
  {
   "cell_type": "code",
   "execution_count": 6,
   "id": "582f4108-b396-4b5f-9a4e-02ecd71f2e8e",
   "metadata": {},
   "outputs": [
    {
     "data": {
      "text/plain": [
       "<Axes: xlabel='Year'>"
      ]
     },
     "execution_count": 6,
     "metadata": {},
     "output_type": "execute_result"
    },
    {
     "data": {
      "image/png": "[encoded data removed]",
      "text/plain": [
       "<Figure size 640x480 with 1 Axes>"
      ]
     },
     "metadata": {},
     "output_type": "display_data"
    }
   ],
   "source": [
    "df[\"temp_change\"].plot()"
   ]
  },
  {
   "cell_type": "code",
   "execution_count": 7,
   "id": "6909ca41-9a58-4749-9607-b06a1d1f0ad5",
   "metadata": {},
   "outputs": [
    {
     "name": "stdout",
     "output_type": "stream",
     "text": [
      "El valor p de la pruueba Dickey-fuller es: 8.361907414786667e-14\n"
     ]
    }
   ],
   "source": [
    "# Aplicacion de la prueba Dickey-Fuller sobre las diferencias\n",
    "result2 = adfuller(df[\"temp_change\"])\n",
    "print(\"El valor p de la pruueba Dickey-fuller es:\", result2[1]) # es bueno que el numero sea muy pequeño"
   ]
  },
  {
   "cell_type": "markdown",
   "id": "6351ed17-b659-4a47-9156-b3dd4b70d6b2",
   "metadata": {},
   "source": [
    "### Conclusion: La serie transformada de diferencias SI ES ESTACIONARIA"
   ]
  },
  {
   "cell_type": "markdown",
   "id": "e5348325-a5d2-4781-aa50-304c1666c786",
   "metadata": {},
   "source": [
    "### Estimacion del modelo ARIMA"
   ]
  },
  {
   "cell_type": "code",
   "execution_count": 10,
   "id": "6f546a67-b406-4029-b3a8-1c4274b803d1",
   "metadata": {},
   "outputs": [
    {
     "name": "stdout",
     "output_type": "stream",
     "text": [
      "El AIC para AR(1) es: 519.9693852277926\n"
     ]
    },
    {
     "name": "stderr",
     "output_type": "stream",
     "text": [
      "/opt/anaconda3/lib/python3.12/site-packages/statsmodels/tsa/base/tsa_model.py:473: ValueWarning: An unsupported index was provided and will be ignored when e.g. forecasting.\n",
      "  self._init_dates(dates, freq)\n",
      "/opt/anaconda3/lib/python3.12/site-packages/statsmodels/tsa/base/tsa_model.py:473: ValueWarning: An unsupported index was provided and will be ignored when e.g. forecasting.\n",
      "  self._init_dates(dates, freq)\n",
      "/opt/anaconda3/lib/python3.12/site-packages/statsmodels/tsa/base/tsa_model.py:473: ValueWarning: An unsupported index was provided and will be ignored when e.g. forecasting.\n",
      "  self._init_dates(dates, freq)\n"
     ]
    }
   ],
   "source": [
    "# Estimacion del modelo ARIMA\n",
    "from statsmodels.tsa.arima.model import ARIMA\n",
    "\n",
    "# Ajustar los datos a un modelo AR(1) e imprimir su AIC:\n",
    "mod_ar1 = ARIMA(df['temp_change'], order = (1, 0, 0))\n",
    "res_ar1 = mod_ar1.fit()\n",
    "print('El AIC para AR(1) es:', res_ar1.aic)"
   ]
  },
  {
   "cell_type": "code",
   "execution_count": 11,
   "id": "d2cc1c34-5218-4a09-be4f-ce32d833e48f",
   "metadata": {},
   "outputs": [
    {
     "name": "stdout",
     "output_type": "stream",
     "text": [
      "El AIC para AR(1) es: 510.48447045590717\n"
     ]
    },
    {
     "name": "stderr",
     "output_type": "stream",
     "text": [
      "/opt/anaconda3/lib/python3.12/site-packages/statsmodels/tsa/base/tsa_model.py:473: ValueWarning: An unsupported index was provided and will be ignored when e.g. forecasting.\n",
      "  self._init_dates(dates, freq)\n",
      "/opt/anaconda3/lib/python3.12/site-packages/statsmodels/tsa/base/tsa_model.py:473: ValueWarning: An unsupported index was provided and will be ignored when e.g. forecasting.\n",
      "  self._init_dates(dates, freq)\n",
      "/opt/anaconda3/lib/python3.12/site-packages/statsmodels/tsa/base/tsa_model.py:473: ValueWarning: An unsupported index was provided and will be ignored when e.g. forecasting.\n",
      "  self._init_dates(dates, freq)\n"
     ]
    }
   ],
   "source": [
    "# Ajustar los datos a un modelo AR(2) e imprimir su AIC:\n",
    "mod_ar2 = ARIMA(df['temp_change'], order = (2, 0, 0))\n",
    "res_ar2 = mod_ar2.fit()\n",
    "print('El AIC para AR(1) es:', res_ar2.aic)"
   ]
  },
  {
   "cell_type": "code",
   "execution_count": 12,
   "id": "43956089-29ad-4844-9520-b9a6d7261dbb",
   "metadata": {},
   "outputs": [
    {
     "name": "stderr",
     "output_type": "stream",
     "text": [
      "/opt/anaconda3/lib/python3.12/site-packages/statsmodels/tsa/base/tsa_model.py:473: ValueWarning: An unsupported index was provided and will be ignored when e.g. forecasting.\n",
      "  self._init_dates(dates, freq)\n",
      "/opt/anaconda3/lib/python3.12/site-packages/statsmodels/tsa/base/tsa_model.py:473: ValueWarning: An unsupported index was provided and will be ignored when e.g. forecasting.\n",
      "  self._init_dates(dates, freq)\n",
      "/opt/anaconda3/lib/python3.12/site-packages/statsmodels/tsa/base/tsa_model.py:473: ValueWarning: An unsupported index was provided and will be ignored when e.g. forecasting.\n",
      "  self._init_dates(dates, freq)\n"
     ]
    },
    {
     "name": "stdout",
     "output_type": "stream",
     "text": [
      "El AIC para AR(1) es: 525.7388387757726\n"
     ]
    }
   ],
   "source": [
    "# Ajustar los datos a un modelo ARIMA(2, 2, 2) e imprimir su AIC:\n",
    "mod_arma222 = ARIMA(df['temp_change'], order = (2, 2, 2))\n",
    "res_arma222 = mod_arma222.fit()\n",
    "print('El AIC para AR(1) es:', res_arma222.aic)"
   ]
  },
  {
   "cell_type": "code",
   "execution_count": 13,
   "id": "83c5e077-251b-4bd1-a84c-cc4661178383",
   "metadata": {},
   "outputs": [
    {
     "name": "stdout",
     "output_type": "stream",
     "text": [
      "El AIC para AR(1) es: 475.6512231553063\n"
     ]
    },
    {
     "name": "stderr",
     "output_type": "stream",
     "text": [
      "/opt/anaconda3/lib/python3.12/site-packages/statsmodels/tsa/base/tsa_model.py:473: ValueWarning: An unsupported index was provided and will be ignored when e.g. forecasting.\n",
      "  self._init_dates(dates, freq)\n",
      "/opt/anaconda3/lib/python3.12/site-packages/statsmodels/tsa/base/tsa_model.py:473: ValueWarning: An unsupported index was provided and will be ignored when e.g. forecasting.\n",
      "  self._init_dates(dates, freq)\n",
      "/opt/anaconda3/lib/python3.12/site-packages/statsmodels/tsa/base/tsa_model.py:473: ValueWarning: An unsupported index was provided and will be ignored when e.g. forecasting.\n",
      "  self._init_dates(dates, freq)\n",
      "/opt/anaconda3/lib/python3.12/site-packages/statsmodels/base/model.py:607: ConvergenceWarning: Maximum Likelihood optimization failed to converge. Check mle_retvals\n",
      "  warnings.warn(\"Maximum Likelihood optimization failed to \"\n"
     ]
    }
   ],
   "source": [
    "# Ajustar los datos a un modelo ARMA(2, 0, 1) e imprimir su AIC:\n",
    "mod_arma201= ARIMA(df['temp_change'], order = (2, 0, 1))\n",
    "res_arma201 = mod_arma201.fit()\n",
    "print('El AIC para AR(1) es:', res_arma201.aic)"
   ]
  },
  {
   "cell_type": "code",
   "execution_count": 14,
   "id": "c9de921e-1523-4077-9716-4126f410d27e",
   "metadata": {},
   "outputs": [
    {
     "name": "stderr",
     "output_type": "stream",
     "text": [
      "/opt/anaconda3/lib/python3.12/site-packages/statsmodels/tsa/base/tsa_model.py:473: ValueWarning: An unsupported index was provided and will be ignored when e.g. forecasting.\n",
      "  self._init_dates(dates, freq)\n",
      "/opt/anaconda3/lib/python3.12/site-packages/statsmodels/tsa/base/tsa_model.py:473: ValueWarning: An unsupported index was provided and will be ignored when e.g. forecasting.\n",
      "  self._init_dates(dates, freq)\n",
      "/opt/anaconda3/lib/python3.12/site-packages/statsmodels/tsa/base/tsa_model.py:473: ValueWarning: An unsupported index was provided and will be ignored when e.g. forecasting.\n",
      "  self._init_dates(dates, freq)\n"
     ]
    },
    {
     "name": "stdout",
     "output_type": "stream",
     "text": [
      "El AIC para AR(1) es: 523.3121443473293\n"
     ]
    }
   ],
   "source": [
    "# Ajustar los datos a un modelo ARIMA(1, 1, 1) e imprimir su AIC:\n",
    "mod_ar111 = ARIMA(df['temp_change'], order = (1, 1, 1))\n",
    "res_ar111 = mod_ar111.fit()\n",
    "print('El AIC para AR(1) es:', res_ar111.aic)"
   ]
  },
  {
   "cell_type": "code",
   "execution_count": 15,
   "id": "9a8b8684-c429-4d7f-b2c2-c1a21c338dfb",
   "metadata": {},
   "outputs": [
    {
     "name": "stderr",
     "output_type": "stream",
     "text": [
      "/opt/anaconda3/lib/python3.12/site-packages/statsmodels/tsa/base/tsa_model.py:473: ValueWarning: An unsupported index was provided and will be ignored when e.g. forecasting.\n",
      "  self._init_dates(dates, freq)\n",
      "/opt/anaconda3/lib/python3.12/site-packages/statsmodels/tsa/base/tsa_model.py:473: ValueWarning: An unsupported index was provided and will be ignored when e.g. forecasting.\n",
      "  self._init_dates(dates, freq)\n",
      "/opt/anaconda3/lib/python3.12/site-packages/statsmodels/tsa/base/tsa_model.py:473: ValueWarning: An unsupported index was provided and will be ignored when e.g. forecasting.\n",
      "  self._init_dates(dates, freq)\n"
     ]
    },
    {
     "name": "stdout",
     "output_type": "stream",
     "text": [
      "El AIC para AR(1) es: 473.8297271230298\n"
     ]
    }
   ],
   "source": [
    "# Ajustar los datos a un modelo ARMA(1, 1) e imprimir su AIC:\n",
    "mod_arma11 = ARIMA(df['temp_change'], order = (1, 0, 1))\n",
    "res_arma11 = mod_arma11.fit()\n",
    "print('El AIC para AR(1) es:', res_arma11.aic)"
   ]
  },
  {
   "cell_type": "code",
   "execution_count": 16,
   "id": "51bd19d3-0a63-4569-aa44-3c98f5181bde",
   "metadata": {},
   "outputs": [],
   "source": [
    "df = pd.read_csv(\"TempNY.csv\")\n",
    "df = df.drop('Unnamed: 2', axis = 1)\n",
    "df.index = df['Year']\n",
    "df = df.drop('Year', axis = 1)\n",
    "len_train = int(len(df)* 0.9)\n",
    "len_test = int(len(df)*0.1)\n",
    "train = df[0:len_train]\n",
    "test = df[len_train:]"
   ]
  },
  {
   "cell_type": "code",
   "execution_count": 17,
   "id": "9c59f830-c40f-414b-b9c8-0add292561b4",
   "metadata": {},
   "outputs": [
    {
     "name": "stderr",
     "output_type": "stream",
     "text": [
      "/opt/anaconda3/lib/python3.12/site-packages/statsmodels/tsa/base/tsa_model.py:473: ValueWarning: An unsupported index was provided and will be ignored when e.g. forecasting.\n",
      "  self._init_dates(dates, freq)\n",
      "/opt/anaconda3/lib/python3.12/site-packages/statsmodels/tsa/base/tsa_model.py:473: ValueWarning: An unsupported index was provided and will be ignored when e.g. forecasting.\n",
      "  self._init_dates(dates, freq)\n",
      "/opt/anaconda3/lib/python3.12/site-packages/statsmodels/tsa/base/tsa_model.py:473: ValueWarning: An unsupported index was provided and will be ignored when e.g. forecasting.\n",
      "  self._init_dates(dates, freq)\n"
     ]
    }
   ],
   "source": [
    "# Ajustar los datos a un modelo ARMA(1, 1) para la base original:\n",
    "mod_arma11 = ARIMA(df['Average'], order = (1, 0, 1))\n",
    "res_arma11 = mod_arma11.fit()"
   ]
  },
  {
   "cell_type": "code",
   "execution_count": 18,
   "id": "bae8a888-93c8-424f-b2ab-c3afd886ea7b",
   "metadata": {},
   "outputs": [
    {
     "name": "stderr",
     "output_type": "stream",
     "text": [
      "/opt/anaconda3/lib/python3.12/site-packages/statsmodels/tsa/base/tsa_model.py:836: ValueWarning: No supported index is available. Prediction results will be given with an integer index beginning at `start`.\n",
      "  return get_prediction_index(\n"
     ]
    },
    {
     "data": {
      "text/plain": [
       "167    55.889169\n",
       "168    55.879787\n",
       "169    55.870451\n",
       "170    55.861161\n",
       "171    55.851916\n",
       "Name: predicted_mean, dtype: float64"
      ]
     },
     "execution_count": 18,
     "metadata": {},
     "output_type": "execute_result"
    }
   ],
   "source": [
    "# Pronostico puntual de los proximos 5 años\n",
    "predicciones = res_arma11.forecast(len(test) + 5)\n",
    "predicciones.tail()"
   ]
  },
  {
   "cell_type": "code",
   "execution_count": 19,
   "id": "a8dca18f-0d98-4b86-a9f1-25fb41162bd0",
   "metadata": {},
   "outputs": [
    {
     "name": "stderr",
     "output_type": "stream",
     "text": [
      "/opt/anaconda3/lib/python3.12/site-packages/statsmodels/tsa/base/tsa_model.py:836: ValueWarning: No supported index is available. Prediction results will be given with an integer index beginning at `start`.\n",
      "  return get_prediction_index(\n"
     ]
    },
    {
     "data": {
      "text/html": [
       "<div>\n",
       "<style scoped>\n",
       "    .dataframe tbody tr th:only-of-type {\n",
       "        vertical-align: middle;\n",
       "    }\n",
       "\n",
       "    .dataframe tbody tr th {\n",
       "        vertical-align: top;\n",
       "    }\n",
       "\n",
       "    .dataframe thead th {\n",
       "        text-align: right;\n",
       "    }\n",
       "</style>\n",
       "<table border=\"1\" class=\"dataframe\">\n",
       "  <thead>\n",
       "    <tr style=\"text-align: right;\">\n",
       "      <th></th>\n",
       "      <th>lower Average</th>\n",
       "      <th>upper Average</th>\n",
       "    </tr>\n",
       "  </thead>\n",
       "  <tbody>\n",
       "    <tr>\n",
       "      <th>167</th>\n",
       "      <td>53.217364</td>\n",
       "      <td>58.560974</td>\n",
       "    </tr>\n",
       "    <tr>\n",
       "      <th>168</th>\n",
       "      <td>53.189323</td>\n",
       "      <td>58.570252</td>\n",
       "    </tr>\n",
       "    <tr>\n",
       "      <th>169</th>\n",
       "      <td>53.161636</td>\n",
       "      <td>58.579266</td>\n",
       "    </tr>\n",
       "    <tr>\n",
       "      <th>170</th>\n",
       "      <td>53.134296</td>\n",
       "      <td>58.588026</td>\n",
       "    </tr>\n",
       "    <tr>\n",
       "      <th>171</th>\n",
       "      <td>53.107294</td>\n",
       "      <td>58.596538</td>\n",
       "    </tr>\n",
       "  </tbody>\n",
       "</table>\n",
       "</div>"
      ],
      "text/plain": [
       "     lower Average  upper Average\n",
       "167      53.217364      58.560974\n",
       "168      53.189323      58.570252\n",
       "169      53.161636      58.579266\n",
       "170      53.134296      58.588026\n",
       "171      53.107294      58.596538"
      ]
     },
     "execution_count": 19,
     "metadata": {},
     "output_type": "execute_result"
    }
   ],
   "source": [
    "# Pronostico por intervalo de los proximos 5 años\n",
    "conf = res_arma11.get_forecast(len(test) + 5).conf_int(alpha = 0.05)\n",
    "conf.tail()"
   ]
  },
  {
   "cell_type": "code",
   "execution_count": 20,
   "id": "e71050d4-7232-4a07-b7de-94d64fae9270",
   "metadata": {
    "scrolled": true
   },
   "outputs": [
    {
     "data": {
      "text/html": [
       "<div>\n",
       "<style scoped>\n",
       "    .dataframe tbody tr th:only-of-type {\n",
       "        vertical-align: middle;\n",
       "    }\n",
       "\n",
       "    .dataframe tbody tr th {\n",
       "        vertical-align: top;\n",
       "    }\n",
       "\n",
       "    .dataframe thead th {\n",
       "        text-align: right;\n",
       "    }\n",
       "</style>\n",
       "<table border=\"1\" class=\"dataframe\">\n",
       "  <thead>\n",
       "    <tr style=\"text-align: right;\">\n",
       "      <th></th>\n",
       "      <th>Year</th>\n",
       "    </tr>\n",
       "  </thead>\n",
       "  <tbody>\n",
       "    <tr>\n",
       "      <th>0</th>\n",
       "      <td>2005</td>\n",
       "    </tr>\n",
       "    <tr>\n",
       "      <th>1</th>\n",
       "      <td>2006</td>\n",
       "    </tr>\n",
       "    <tr>\n",
       "      <th>2</th>\n",
       "      <td>2007</td>\n",
       "    </tr>\n",
       "    <tr>\n",
       "      <th>3</th>\n",
       "      <td>2008</td>\n",
       "    </tr>\n",
       "    <tr>\n",
       "      <th>4</th>\n",
       "      <td>2009</td>\n",
       "    </tr>\n",
       "    <tr>\n",
       "      <th>5</th>\n",
       "      <td>2010</td>\n",
       "    </tr>\n",
       "    <tr>\n",
       "      <th>6</th>\n",
       "      <td>2011</td>\n",
       "    </tr>\n",
       "    <tr>\n",
       "      <th>7</th>\n",
       "      <td>2012</td>\n",
       "    </tr>\n",
       "    <tr>\n",
       "      <th>8</th>\n",
       "      <td>2013</td>\n",
       "    </tr>\n",
       "    <tr>\n",
       "      <th>9</th>\n",
       "      <td>2014</td>\n",
       "    </tr>\n",
       "    <tr>\n",
       "      <th>10</th>\n",
       "      <td>2015</td>\n",
       "    </tr>\n",
       "    <tr>\n",
       "      <th>11</th>\n",
       "      <td>2016</td>\n",
       "    </tr>\n",
       "    <tr>\n",
       "      <th>12</th>\n",
       "      <td>2017</td>\n",
       "    </tr>\n",
       "    <tr>\n",
       "      <th>13</th>\n",
       "      <td>2018</td>\n",
       "    </tr>\n",
       "    <tr>\n",
       "      <th>14</th>\n",
       "      <td>2019</td>\n",
       "    </tr>\n",
       "    <tr>\n",
       "      <th>15</th>\n",
       "      <td>2020</td>\n",
       "    </tr>\n",
       "    <tr>\n",
       "      <th>16</th>\n",
       "      <td>2021</td>\n",
       "    </tr>\n",
       "    <tr>\n",
       "      <th>17</th>\n",
       "      <td>2022</td>\n",
       "    </tr>\n",
       "    <tr>\n",
       "      <th>18</th>\n",
       "      <td>2023</td>\n",
       "    </tr>\n",
       "    <tr>\n",
       "      <th>19</th>\n",
       "      <td>2024</td>\n",
       "    </tr>\n",
       "    <tr>\n",
       "      <th>20</th>\n",
       "      <td>2025</td>\n",
       "    </tr>\n",
       "  </tbody>\n",
       "</table>\n",
       "</div>"
      ],
      "text/plain": [
       "    Year\n",
       "0   2005\n",
       "1   2006\n",
       "2   2007\n",
       "3   2008\n",
       "4   2009\n",
       "5   2010\n",
       "6   2011\n",
       "7   2012\n",
       "8   2013\n",
       "9   2014\n",
       "10  2015\n",
       "11  2016\n",
       "12  2017\n",
       "13  2018\n",
       "14  2019\n",
       "15  2020\n",
       "16  2021\n",
       "17  2022\n",
       "18  2023\n",
       "19  2024\n",
       "20  2025"
      ]
     },
     "execution_count": 20,
     "metadata": {},
     "output_type": "execute_result"
    }
   ],
   "source": [
    "lista = test.index\n",
    "lista = pd.DataFrame(lista)\n",
    "\n",
    "lista2 = []\n",
    "for i in range(1, 6):\n",
    "    fecha = 2020 + i\n",
    "    lista2.append(fecha)\n",
    "lista2 = pd.DataFrame(lista2, columns = ['Year'])\n",
    "fechas = pd.concat([lista, lista2], ignore_index=True)\n",
    "fechas = fechas.reset_index()\n",
    "fechas.drop(columns = ['index'], inplace = True)\n",
    "fechas"
   ]
  },
  {
   "cell_type": "code",
   "execution_count": 21,
   "id": "bd4e814a-771a-49ed-8c61-63e15ff905f7",
   "metadata": {
    "scrolled": true
   },
   "outputs": [
    {
     "data": {
      "text/html": [
       "<div>\n",
       "<style scoped>\n",
       "    .dataframe tbody tr th:only-of-type {\n",
       "        vertical-align: middle;\n",
       "    }\n",
       "\n",
       "    .dataframe tbody tr th {\n",
       "        vertical-align: top;\n",
       "    }\n",
       "\n",
       "    .dataframe thead th {\n",
       "        text-align: right;\n",
       "    }\n",
       "</style>\n",
       "<table border=\"1\" class=\"dataframe\">\n",
       "  <thead>\n",
       "    <tr style=\"text-align: right;\">\n",
       "      <th></th>\n",
       "      <th>predicted_mean</th>\n",
       "    </tr>\n",
       "  </thead>\n",
       "  <tbody>\n",
       "    <tr>\n",
       "      <th>0</th>\n",
       "      <td>56.045706</td>\n",
       "    </tr>\n",
       "    <tr>\n",
       "      <th>1</th>\n",
       "      <td>56.035558</td>\n",
       "    </tr>\n",
       "    <tr>\n",
       "      <th>2</th>\n",
       "      <td>56.025461</td>\n",
       "    </tr>\n",
       "    <tr>\n",
       "      <th>3</th>\n",
       "      <td>56.015413</td>\n",
       "    </tr>\n",
       "    <tr>\n",
       "      <th>4</th>\n",
       "      <td>56.005413</td>\n",
       "    </tr>\n",
       "    <tr>\n",
       "      <th>5</th>\n",
       "      <td>55.995463</td>\n",
       "    </tr>\n",
       "    <tr>\n",
       "      <th>6</th>\n",
       "      <td>55.985561</td>\n",
       "    </tr>\n",
       "    <tr>\n",
       "      <th>7</th>\n",
       "      <td>55.975708</td>\n",
       "    </tr>\n",
       "    <tr>\n",
       "      <th>8</th>\n",
       "      <td>55.965903</td>\n",
       "    </tr>\n",
       "    <tr>\n",
       "      <th>9</th>\n",
       "      <td>55.956146</td>\n",
       "    </tr>\n",
       "    <tr>\n",
       "      <th>10</th>\n",
       "      <td>55.946437</td>\n",
       "    </tr>\n",
       "    <tr>\n",
       "      <th>11</th>\n",
       "      <td>55.936775</td>\n",
       "    </tr>\n",
       "    <tr>\n",
       "      <th>12</th>\n",
       "      <td>55.927160</td>\n",
       "    </tr>\n",
       "    <tr>\n",
       "      <th>13</th>\n",
       "      <td>55.917593</td>\n",
       "    </tr>\n",
       "    <tr>\n",
       "      <th>14</th>\n",
       "      <td>55.908072</td>\n",
       "    </tr>\n",
       "    <tr>\n",
       "      <th>15</th>\n",
       "      <td>55.898597</td>\n",
       "    </tr>\n",
       "    <tr>\n",
       "      <th>16</th>\n",
       "      <td>55.889169</td>\n",
       "    </tr>\n",
       "    <tr>\n",
       "      <th>17</th>\n",
       "      <td>55.879787</td>\n",
       "    </tr>\n",
       "    <tr>\n",
       "      <th>18</th>\n",
       "      <td>55.870451</td>\n",
       "    </tr>\n",
       "    <tr>\n",
       "      <th>19</th>\n",
       "      <td>55.861161</td>\n",
       "    </tr>\n",
       "    <tr>\n",
       "      <th>20</th>\n",
       "      <td>55.851916</td>\n",
       "    </tr>\n",
       "  </tbody>\n",
       "</table>\n",
       "</div>"
      ],
      "text/plain": [
       "    predicted_mean\n",
       "0        56.045706\n",
       "1        56.035558\n",
       "2        56.025461\n",
       "3        56.015413\n",
       "4        56.005413\n",
       "5        55.995463\n",
       "6        55.985561\n",
       "7        55.975708\n",
       "8        55.965903\n",
       "9        55.956146\n",
       "10       55.946437\n",
       "11       55.936775\n",
       "12       55.927160\n",
       "13       55.917593\n",
       "14       55.908072\n",
       "15       55.898597\n",
       "16       55.889169\n",
       "17       55.879787\n",
       "18       55.870451\n",
       "19       55.861161\n",
       "20       55.851916"
      ]
     },
     "execution_count": 21,
     "metadata": {},
     "output_type": "execute_result"
    }
   ],
   "source": [
    "predicciones = pd.DataFrame(predicciones)\n",
    "predicciones = predicciones.reset_index()\n",
    "predicciones.drop(columns = ['index'], inplace = True)\n",
    "predicciones"
   ]
  },
  {
   "cell_type": "code",
   "execution_count": 22,
   "id": "30e6f6ef-beb7-4a49-95e4-af65b6371bc8",
   "metadata": {
    "scrolled": true
   },
   "outputs": [
    {
     "data": {
      "text/html": [
       "<div>\n",
       "<style scoped>\n",
       "    .dataframe tbody tr th:only-of-type {\n",
       "        vertical-align: middle;\n",
       "    }\n",
       "\n",
       "    .dataframe tbody tr th {\n",
       "        vertical-align: top;\n",
       "    }\n",
       "\n",
       "    .dataframe thead th {\n",
       "        text-align: right;\n",
       "    }\n",
       "</style>\n",
       "<table border=\"1\" class=\"dataframe\">\n",
       "  <thead>\n",
       "    <tr style=\"text-align: right;\">\n",
       "      <th></th>\n",
       "      <th>Predicciones</th>\n",
       "    </tr>\n",
       "    <tr>\n",
       "      <th>Year</th>\n",
       "      <th></th>\n",
       "    </tr>\n",
       "  </thead>\n",
       "  <tbody>\n",
       "    <tr>\n",
       "      <th>2005</th>\n",
       "      <td>56.045706</td>\n",
       "    </tr>\n",
       "    <tr>\n",
       "      <th>2006</th>\n",
       "      <td>56.035558</td>\n",
       "    </tr>\n",
       "    <tr>\n",
       "      <th>2007</th>\n",
       "      <td>56.025461</td>\n",
       "    </tr>\n",
       "    <tr>\n",
       "      <th>2008</th>\n",
       "      <td>56.015413</td>\n",
       "    </tr>\n",
       "    <tr>\n",
       "      <th>2009</th>\n",
       "      <td>56.005413</td>\n",
       "    </tr>\n",
       "    <tr>\n",
       "      <th>2010</th>\n",
       "      <td>55.995463</td>\n",
       "    </tr>\n",
       "    <tr>\n",
       "      <th>2011</th>\n",
       "      <td>55.985561</td>\n",
       "    </tr>\n",
       "    <tr>\n",
       "      <th>2012</th>\n",
       "      <td>55.975708</td>\n",
       "    </tr>\n",
       "    <tr>\n",
       "      <th>2013</th>\n",
       "      <td>55.965903</td>\n",
       "    </tr>\n",
       "    <tr>\n",
       "      <th>2014</th>\n",
       "      <td>55.956146</td>\n",
       "    </tr>\n",
       "    <tr>\n",
       "      <th>2015</th>\n",
       "      <td>55.946437</td>\n",
       "    </tr>\n",
       "    <tr>\n",
       "      <th>2016</th>\n",
       "      <td>55.936775</td>\n",
       "    </tr>\n",
       "    <tr>\n",
       "      <th>2017</th>\n",
       "      <td>55.927160</td>\n",
       "    </tr>\n",
       "    <tr>\n",
       "      <th>2018</th>\n",
       "      <td>55.917593</td>\n",
       "    </tr>\n",
       "    <tr>\n",
       "      <th>2019</th>\n",
       "      <td>55.908072</td>\n",
       "    </tr>\n",
       "    <tr>\n",
       "      <th>2020</th>\n",
       "      <td>55.898597</td>\n",
       "    </tr>\n",
       "    <tr>\n",
       "      <th>2021</th>\n",
       "      <td>55.889169</td>\n",
       "    </tr>\n",
       "    <tr>\n",
       "      <th>2022</th>\n",
       "      <td>55.879787</td>\n",
       "    </tr>\n",
       "    <tr>\n",
       "      <th>2023</th>\n",
       "      <td>55.870451</td>\n",
       "    </tr>\n",
       "    <tr>\n",
       "      <th>2024</th>\n",
       "      <td>55.861161</td>\n",
       "    </tr>\n",
       "    <tr>\n",
       "      <th>2025</th>\n",
       "      <td>55.851916</td>\n",
       "    </tr>\n",
       "  </tbody>\n",
       "</table>\n",
       "</div>"
      ],
      "text/plain": [
       "      Predicciones\n",
       "Year              \n",
       "2005     56.045706\n",
       "2006     56.035558\n",
       "2007     56.025461\n",
       "2008     56.015413\n",
       "2009     56.005413\n",
       "2010     55.995463\n",
       "2011     55.985561\n",
       "2012     55.975708\n",
       "2013     55.965903\n",
       "2014     55.956146\n",
       "2015     55.946437\n",
       "2016     55.936775\n",
       "2017     55.927160\n",
       "2018     55.917593\n",
       "2019     55.908072\n",
       "2020     55.898597\n",
       "2021     55.889169\n",
       "2022     55.879787\n",
       "2023     55.870451\n",
       "2024     55.861161\n",
       "2025     55.851916"
      ]
     },
     "execution_count": 22,
     "metadata": {},
     "output_type": "execute_result"
    }
   ],
   "source": [
    "frames = [fechas, predicciones]\n",
    "result = pd.concat(frames, axis = 1, join = 'inner')\n",
    "result.columns = ['Year', 'Predicciones']\n",
    "result.index = result['Year']\n",
    "result.drop(columns = [\"Year\"], inplace = True)\n",
    "result"
   ]
  },
  {
   "cell_type": "code",
   "execution_count": 23,
   "id": "af4f6a48-6b25-4468-86d4-3bf70307a079",
   "metadata": {
    "scrolled": true
   },
   "outputs": [
    {
     "data": {
      "text/html": [
       "<div>\n",
       "<style scoped>\n",
       "    .dataframe tbody tr th:only-of-type {\n",
       "        vertical-align: middle;\n",
       "    }\n",
       "\n",
       "    .dataframe tbody tr th {\n",
       "        vertical-align: top;\n",
       "    }\n",
       "\n",
       "    .dataframe thead th {\n",
       "        text-align: right;\n",
       "    }\n",
       "</style>\n",
       "<table border=\"1\" class=\"dataframe\">\n",
       "  <thead>\n",
       "    <tr style=\"text-align: right;\">\n",
       "      <th></th>\n",
       "      <th>lower Average</th>\n",
       "      <th>upper Average</th>\n",
       "    </tr>\n",
       "    <tr>\n",
       "      <th>Year</th>\n",
       "      <th></th>\n",
       "      <th></th>\n",
       "    </tr>\n",
       "  </thead>\n",
       "  <tbody>\n",
       "    <tr>\n",
       "      <th>2005</th>\n",
       "      <td>53.722613</td>\n",
       "      <td>58.368798</td>\n",
       "    </tr>\n",
       "    <tr>\n",
       "      <th>2006</th>\n",
       "      <td>53.687409</td>\n",
       "      <td>58.383708</td>\n",
       "    </tr>\n",
       "    <tr>\n",
       "      <th>2007</th>\n",
       "      <td>53.652759</td>\n",
       "      <td>58.398162</td>\n",
       "    </tr>\n",
       "    <tr>\n",
       "      <th>2008</th>\n",
       "      <td>53.618647</td>\n",
       "      <td>58.412178</td>\n",
       "    </tr>\n",
       "    <tr>\n",
       "      <th>2009</th>\n",
       "      <td>53.585054</td>\n",
       "      <td>58.425773</td>\n",
       "    </tr>\n",
       "    <tr>\n",
       "      <th>2010</th>\n",
       "      <td>53.551964</td>\n",
       "      <td>58.438962</td>\n",
       "    </tr>\n",
       "    <tr>\n",
       "      <th>2011</th>\n",
       "      <td>53.519363</td>\n",
       "      <td>58.451760</td>\n",
       "    </tr>\n",
       "    <tr>\n",
       "      <th>2012</th>\n",
       "      <td>53.487236</td>\n",
       "      <td>58.464181</td>\n",
       "    </tr>\n",
       "    <tr>\n",
       "      <th>2013</th>\n",
       "      <td>53.455569</td>\n",
       "      <td>58.476238</td>\n",
       "    </tr>\n",
       "    <tr>\n",
       "      <th>2014</th>\n",
       "      <td>53.424349</td>\n",
       "      <td>58.487944</td>\n",
       "    </tr>\n",
       "    <tr>\n",
       "      <th>2015</th>\n",
       "      <td>53.393563</td>\n",
       "      <td>58.499310</td>\n",
       "    </tr>\n",
       "    <tr>\n",
       "      <th>2016</th>\n",
       "      <td>53.363202</td>\n",
       "      <td>58.510348</td>\n",
       "    </tr>\n",
       "    <tr>\n",
       "      <th>2017</th>\n",
       "      <td>53.333252</td>\n",
       "      <td>58.521069</td>\n",
       "    </tr>\n",
       "    <tr>\n",
       "      <th>2018</th>\n",
       "      <td>53.303703</td>\n",
       "      <td>58.531482</td>\n",
       "    </tr>\n",
       "    <tr>\n",
       "      <th>2019</th>\n",
       "      <td>53.274545</td>\n",
       "      <td>58.541598</td>\n",
       "    </tr>\n",
       "    <tr>\n",
       "      <th>2020</th>\n",
       "      <td>53.245769</td>\n",
       "      <td>58.551426</td>\n",
       "    </tr>\n",
       "    <tr>\n",
       "      <th>2021</th>\n",
       "      <td>53.217364</td>\n",
       "      <td>58.560974</td>\n",
       "    </tr>\n",
       "    <tr>\n",
       "      <th>2022</th>\n",
       "      <td>53.189323</td>\n",
       "      <td>58.570252</td>\n",
       "    </tr>\n",
       "    <tr>\n",
       "      <th>2023</th>\n",
       "      <td>53.161636</td>\n",
       "      <td>58.579266</td>\n",
       "    </tr>\n",
       "    <tr>\n",
       "      <th>2024</th>\n",
       "      <td>53.134296</td>\n",
       "      <td>58.588026</td>\n",
       "    </tr>\n",
       "    <tr>\n",
       "      <th>2025</th>\n",
       "      <td>53.107294</td>\n",
       "      <td>58.596538</td>\n",
       "    </tr>\n",
       "  </tbody>\n",
       "</table>\n",
       "</div>"
      ],
      "text/plain": [
       "      lower Average  upper Average\n",
       "Year                              \n",
       "2005      53.722613      58.368798\n",
       "2006      53.687409      58.383708\n",
       "2007      53.652759      58.398162\n",
       "2008      53.618647      58.412178\n",
       "2009      53.585054      58.425773\n",
       "2010      53.551964      58.438962\n",
       "2011      53.519363      58.451760\n",
       "2012      53.487236      58.464181\n",
       "2013      53.455569      58.476238\n",
       "2014      53.424349      58.487944\n",
       "2015      53.393563      58.499310\n",
       "2016      53.363202      58.510348\n",
       "2017      53.333252      58.521069\n",
       "2018      53.303703      58.531482\n",
       "2019      53.274545      58.541598\n",
       "2020      53.245769      58.551426\n",
       "2021      53.217364      58.560974\n",
       "2022      53.189323      58.570252\n",
       "2023      53.161636      58.579266\n",
       "2024      53.134296      58.588026\n",
       "2025      53.107294      58.596538"
      ]
     },
     "execution_count": 23,
     "metadata": {},
     "output_type": "execute_result"
    }
   ],
   "source": [
    "conf = conf.reset_index()\n",
    "conf.drop(columns = [\"index\"], inplace = True)\n",
    "frames = [fechas, conf]\n",
    "intervalos = pd.concat(frames, axis = 1, join = 'inner')\n",
    "intervalos.index = intervalos['Year']\n",
    "intervalos.drop(columns = ['Year'], inplace = True)\n",
    "intervalos"
   ]
  },
  {
   "cell_type": "code",
   "execution_count": 24,
   "id": "d09ff2ea-8d52-45e0-ab77-f0cffaa33c5c",
   "metadata": {},
   "outputs": [
    {
     "data": {
      "image/png": "[encoded data removed]",
      "text/plain": [
       "<Figure size 2000x500 with 1 Axes>"
      ]
     },
     "metadata": {},
     "output_type": "display_data"
    }
   ],
   "source": [
    "import matplotlib.pyplot as plt\n",
    "plt.figure(figsize = (20, 5))\n",
    "plt.grid()\n",
    "plt.plot(train, label = 'Train')\n",
    "plt.plot(test, label = 'Test')\n",
    "plt.plot(result, label = \"Predicciones\", color = 'red')\n",
    "plt.plot(intervalos[\"lower Average\"], label = \"Lim. Inf. 95%\", color = 'blue')\n",
    "plt.plot(intervalos[\"upper Average\"], label = \"Lim. sup. 95%\", color = 'blue')\n",
    "plt.legend(loc = 'best')\n",
    "plt.title(\"Pronosticos mediante ARMA(1, 1)\")\n",
    "plt.show()"
   ]
  }
 ],
 "metadata": {
  "kernelspec": {
   "display_name": "Python 3 (ipykernel)",
   "language": "python",
   "name": "python3"
  },
  "language_info": {
   "codemirror_mode": {
    "name": "ipython",
    "version": 3
   },
   "file_extension": ".py",
   "mimetype": "text/x-python",
   "name": "python",
   "nbconvert_exporter": "python",
   "pygments_lexer": "ipython3",
   "version": "3.12.4"
  }
 },
 "nbformat": 4,
 "nbformat_minor": 5
}
