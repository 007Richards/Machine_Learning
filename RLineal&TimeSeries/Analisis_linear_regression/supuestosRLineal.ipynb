{
 "cells": [
  {
   "cell_type": "code",
   "execution_count": 1,
   "id": "6290d32d-3ec9-4eb4-8356-779293fe3732",
   "metadata": {},
   "outputs": [
    {
     "data": {
      "text/html": [
       "<div>\n",
       "<style scoped>\n",
       "    .dataframe tbody tr th:only-of-type {\n",
       "        vertical-align: middle;\n",
       "    }\n",
       "\n",
       "    .dataframe tbody tr th {\n",
       "        vertical-align: top;\n",
       "    }\n",
       "\n",
       "    .dataframe thead th {\n",
       "        text-align: right;\n",
       "    }\n",
       "</style>\n",
       "<table border=\"1\" class=\"dataframe\">\n",
       "  <thead>\n",
       "    <tr style=\"text-align: right;\">\n",
       "      <th></th>\n",
       "      <th>TV</th>\n",
       "      <th>Radio</th>\n",
       "      <th>Newspaper</th>\n",
       "      <th>Sales</th>\n",
       "    </tr>\n",
       "  </thead>\n",
       "  <tbody>\n",
       "    <tr>\n",
       "      <th>0</th>\n",
       "      <td>230.1</td>\n",
       "      <td>37.8</td>\n",
       "      <td>69.2</td>\n",
       "      <td>22.1</td>\n",
       "    </tr>\n",
       "    <tr>\n",
       "      <th>1</th>\n",
       "      <td>44.5</td>\n",
       "      <td>39.3</td>\n",
       "      <td>45.1</td>\n",
       "      <td>10.4</td>\n",
       "    </tr>\n",
       "    <tr>\n",
       "      <th>2</th>\n",
       "      <td>17.2</td>\n",
       "      <td>45.9</td>\n",
       "      <td>69.3</td>\n",
       "      <td>12.0</td>\n",
       "    </tr>\n",
       "    <tr>\n",
       "      <th>3</th>\n",
       "      <td>151.5</td>\n",
       "      <td>41.3</td>\n",
       "      <td>58.5</td>\n",
       "      <td>16.5</td>\n",
       "    </tr>\n",
       "    <tr>\n",
       "      <th>4</th>\n",
       "      <td>180.8</td>\n",
       "      <td>10.8</td>\n",
       "      <td>58.4</td>\n",
       "      <td>17.9</td>\n",
       "    </tr>\n",
       "  </tbody>\n",
       "</table>\n",
       "</div>"
      ],
      "text/plain": [
       "      TV  Radio  Newspaper  Sales\n",
       "0  230.1   37.8       69.2   22.1\n",
       "1   44.5   39.3       45.1   10.4\n",
       "2   17.2   45.9       69.3   12.0\n",
       "3  151.5   41.3       58.5   16.5\n",
       "4  180.8   10.8       58.4   17.9"
      ]
     },
     "execution_count": 1,
     "metadata": {},
     "output_type": "execute_result"
    }
   ],
   "source": [
    "import pandas as pd\n",
    "import numpy as np\n",
    "\n",
    "import warnings\n",
    "warnings.filterwarnings(\"ignore\")\n",
    "\n",
    "import os\n",
    "os.chdir(\"/Users/admin/Downloads/EBAC/dataframesEbac\")\n",
    "df = pd.read_csv(\"Advertising.csv\")\n",
    "df.head()"
   ]
  },
  {
   "cell_type": "code",
   "execution_count": 2,
   "id": "1c3e5d7d-1725-4d88-8e1d-b7f7d22dc848",
   "metadata": {},
   "outputs": [],
   "source": [
    "df[\"Intercepto\"] = 1\n",
    "df = df[['Intercepto', 'TV', 'Radio', 'Newspaper', 'Sales']]\n",
    "\n",
    "Xdata = df[['Intercepto', 'TV', 'Radio', 'Newspaper']].values\n",
    "Ydata = df[[\"Sales\"]].values"
   ]
  },
  {
   "cell_type": "code",
   "execution_count": 3,
   "id": "cf08a18e-0e45-4c9b-95b2-fd7f7d5444d3",
   "metadata": {},
   "outputs": [],
   "source": [
    "# Bases de entrenamiento y de prueba\n",
    "from sklearn.model_selection import train_test_split\n",
    "x_train, x_test, y_train, y_test = train_test_split(Xdata, Ydata, test_size = 0.3, random_state = 1) "
   ]
  },
  {
   "cell_type": "code",
   "execution_count": 4,
   "id": "236b045b-f7fb-4f2f-90c2-8ca0583a1d06",
   "metadata": {},
   "outputs": [],
   "source": [
    "x = x_train\n",
    "y = y_train"
   ]
  },
  {
   "cell_type": "code",
   "execution_count": 5,
   "id": "c15e94b2-cb9a-44e1-8442-4aca246415c8",
   "metadata": {},
   "outputs": [],
   "source": [
    "# Formato numerico\n",
    "np.set_printoptions(formatter = {'float_kind':'{:f}'.format})"
   ]
  },
  {
   "cell_type": "code",
   "execution_count": 6,
   "id": "e6d4e2fa-c517-4400-823d-191b3450796e",
   "metadata": {},
   "outputs": [
    {
     "data": {
      "text/plain": [
       "array([[4.661440],\n",
       "       [0.055024],\n",
       "       [0.102510],\n",
       "       [-0.001507]])"
      ]
     },
     "execution_count": 6,
     "metadata": {},
     "output_type": "execute_result"
    }
   ],
   "source": [
    "XT_X = np.matmul(np.matrix.transpose(x), x)\n",
    "XT_X_inv = np.linalg.inv(XT_X)\n",
    "XT_Y = np.matmul(np.matrix.transpose(x), y)\n",
    "betas = np.matmul(XT_X_inv, XT_Y)\n",
    "betas"
   ]
  },
  {
   "cell_type": "code",
   "execution_count": 7,
   "id": "68a83d44-0efe-4a0e-a3a6-87b2f1224689",
   "metadata": {},
   "outputs": [],
   "source": [
    "# Calculo de los pronosticos para Y de acuerdo a los  coeficientes de regresion\n",
    "Y_pred = np.matmul(x, betas)\n",
    "# Calculo de residuales\n",
    "Resid = y - Y_pred"
   ]
  },
  {
   "cell_type": "code",
   "execution_count": 8,
   "id": "b4349776-d949-4269-8a78-3b464039e5e8",
   "metadata": {},
   "outputs": [
    {
     "data": {
      "text/plain": [
       "0.8993745840124557"
      ]
     },
     "execution_count": 8,
     "metadata": {},
     "output_type": "execute_result"
    }
   ],
   "source": [
    "# Calculo de la suma de residuales al cuadrado\n",
    "RSS = float(np.matmul(np.matrix.transpose(Resid), Resid))\n",
    "# Calculo de la suma total de cuadrados\n",
    "TSS = float( np.matmul(np.matrix.transpose(y), y) - len(y) * (y.mean()**2))\n",
    "# Calculo del coeficiente de determinación \n",
    "R_cuad = float(1 - RSS/TSS)\n",
    "R_cuad"
   ]
  },
  {
   "cell_type": "code",
   "execution_count": 9,
   "id": "ac036509-a5a2-4315-bf85-a4ff74eb14b2",
   "metadata": {},
   "outputs": [
    {
     "data": {
      "text/plain": [
       "2.950210939339458"
      ]
     },
     "execution_count": 9,
     "metadata": {},
     "output_type": "execute_result"
    }
   ],
   "source": [
    "# Calculo de la varianza del error de regresion\n",
    "s_cuad = RSS / (len(y) - x.shape[1])\n",
    "s_cuad"
   ]
  },
  {
   "cell_type": "code",
   "execution_count": 10,
   "id": "7a463869-f21a-4c0f-b07d-b2b6ae86f75e",
   "metadata": {},
   "outputs": [
    {
     "data": {
      "text/plain": [
       "1.7176178094498957"
      ]
     },
     "execution_count": 10,
     "metadata": {},
     "output_type": "execute_result"
    }
   ],
   "source": [
    "# Desviacion estandar del error de regresion\n",
    "import math\n",
    "s = math.sqrt(s_cuad)\n",
    "s"
   ]
  },
  {
   "cell_type": "code",
   "execution_count": 11,
   "id": "1d700425-8fb6-4af8-8b8b-e76e4a542ece",
   "metadata": {},
   "outputs": [
    {
     "data": {
      "text/plain": [
       "1.6561349882437968"
      ]
     },
     "execution_count": 11,
     "metadata": {},
     "output_type": "execute_result"
    }
   ],
   "source": [
    "# Obtencion del valor critico de la t de student\n",
    "\n",
    "import scipy.stats\n",
    "\n",
    "# Grados de libertad n - (k+1)\n",
    "grados_libertad = len(y) - x.shape[1]\n",
    "confianza = 0.90\n",
    "q = (1 - confianza) / 2\n",
    "t_critico = abs(scipy.stats.t.ppf(q, df = grados_libertad))\n",
    "t_critico"
   ]
  },
  {
   "cell_type": "code",
   "execution_count": 12,
   "id": "06d8b087-72aa-4caf-b6b0-aed2ef8c1a1a",
   "metadata": {},
   "outputs": [
    {
     "data": {
      "text/plain": [
       "array([[  1],\n",
       "       [100],\n",
       "       [ 50],\n",
       "       [ 70]])"
      ]
     },
     "execution_count": 12,
     "metadata": {},
     "output_type": "execute_result"
    }
   ],
   "source": [
    "# Valores particulares de x TV, Radio y Periodicos\n",
    "f = np.array([[1], [100], [50], [70]])\n",
    "f"
   ]
  },
  {
   "cell_type": "code",
   "execution_count": 13,
   "id": "4a94f960-2dbb-4af4-ae9a-a51706ba32fc",
   "metadata": {},
   "outputs": [
    {
     "data": {
      "text/plain": [
       "0.5917297446911736"
      ]
     },
     "execution_count": 13,
     "metadata": {},
     "output_type": "execute_result"
    }
   ],
   "source": [
    "margen_error = t_critico * (s * (float(np.matmul(np.matmul(np.matrix.transpose(f), XT_X_inv), f)) ** 0.5))\n",
    "margen_error"
   ]
  },
  {
   "cell_type": "code",
   "execution_count": 14,
   "id": "be6fa651-5b6c-4855-ae76-f1350fd400f2",
   "metadata": {},
   "outputs": [
    {
     "data": {
      "text/plain": [
       "15.18383546573101"
      ]
     },
     "execution_count": 14,
     "metadata": {},
     "output_type": "execute_result"
    }
   ],
   "source": [
    "pron_puntual  = float(np.matmul(np.matrix.transpose(f), betas))\n",
    "pron_puntual"
   ]
  },
  {
   "cell_type": "code",
   "execution_count": 15,
   "id": "80017283-5c42-471e-bc76-de431dcf18f0",
   "metadata": {},
   "outputs": [
    {
     "name": "stdout",
     "output_type": "stream",
     "text": [
      "Intervalo de confianza: ( 14.592105721039836 , 15.775565210422183 )\n"
     ]
    }
   ],
   "source": [
    "# limites del intervalo de confianza \n",
    "lim_inferior = pron_puntual - margen_error\n",
    "lim_superior = pron_puntual + margen_error\n",
    "print(\"Intervalo de confianza: (\", lim_inferior, ',', lim_superior, ')')"
   ]
  },
  {
   "cell_type": "markdown",
   "id": "5a079f5e-c20e-428a-aaeb-17f9f16ccd89",
   "metadata": {},
   "source": [
    "# Validacion de supuestos de la regresión:"
   ]
  },
  {
   "cell_type": "markdown",
   "id": "f2ab31bf-c9ac-40cd-bf4d-8df355f62e71",
   "metadata": {},
   "source": [
    "## Supuesto 1 "
   ]
  },
  {
   "cell_type": "code",
   "execution_count": 18,
   "id": "30af6ffa-794d-4f5e-a184-802fe177365e",
   "metadata": {},
   "outputs": [
    {
     "data": {
      "text/plain": [
       "-0.5262788252488116"
      ]
     },
     "execution_count": 18,
     "metadata": {},
     "output_type": "execute_result"
    }
   ],
   "source": [
    "import scipy\n",
    "# Calculo de la asimetria en residuales\n",
    "skew = float(scipy.stats.skew(Resid, bias = True))\n",
    "skew"
   ]
  },
  {
   "cell_type": "code",
   "execution_count": 19,
   "id": "ab411edd-63f5-4f2d-a02a-d53a4e34af77",
   "metadata": {},
   "outputs": [
    {
     "data": {
      "text/plain": [
       "4.824267653812199"
      ]
     },
     "execution_count": 19,
     "metadata": {},
     "output_type": "execute_result"
    }
   ],
   "source": [
    "# Calculo de la curtosis de residuales\n",
    "kurtosis = float(scipy.stats.kurtosis(Resid, fisher = False))\n",
    "kurtosis"
   ]
  },
  {
   "cell_type": "code",
   "execution_count": 20,
   "id": "561ed24d-b53b-485b-9d52-709031928d6f",
   "metadata": {},
   "outputs": [
    {
     "data": {
      "text/plain": [
       "25.875675468804822"
      ]
     },
     "execution_count": 20,
     "metadata": {},
     "output_type": "execute_result"
    }
   ],
   "source": [
    "Jarque_bera = (len(x) / 6) * (skew ** 2 + (kurtosis - 3) ** 2 / 4)\n",
    "Jarque_bera"
   ]
  },
  {
   "cell_type": "code",
   "execution_count": 21,
   "id": "c1cf96f1-02f0-4a95-bfdb-6d09d4d0cb1f",
   "metadata": {},
   "outputs": [
    {
     "data": {
      "text/plain": [
       "4.605170185988092"
      ]
     },
     "execution_count": 21,
     "metadata": {},
     "output_type": "execute_result"
    }
   ],
   "source": [
    "nivel_confianza = 0.90\n",
    "scipy.stats.chi2.ppf(nivel_confianza, df = 2)"
   ]
  },
  {
   "cell_type": "markdown",
   "id": "64308a94-dbea-43df-89fa-f69aacdb78bf",
   "metadata": {},
   "source": [
    "Conclusión: Dado que JB es mayor al nivel critico, podemos rechazar la hipotesis de existencia de normalidad\n",
    "en los residuales"
   ]
  },
  {
   "cell_type": "markdown",
   "id": "0d1302f8-f3d3-4f2b-afae-ec094195467c",
   "metadata": {},
   "source": [
    "## Supuesto 2 : Inexistencia de autocorrelacion entre residules"
   ]
  },
  {
   "cell_type": "code",
   "execution_count": 24,
   "id": "da493a04-10d3-475b-88de-533b7e996320",
   "metadata": {},
   "outputs": [],
   "source": [
    "from statsmodels.formula.api import ols\n",
    "y_df = pd.DataFrame(y)\n",
    "x_df = pd.DataFrame(x[:, 1:])"
   ]
  },
  {
   "cell_type": "code",
   "execution_count": 25,
   "id": "fc2ea303-d4f6-4019-8e16-8d23c14b91ba",
   "metadata": {},
   "outputs": [],
   "source": [
    "df = pd.concat([y_df, x_df.reindex(y_df.index)], axis = 1)\n",
    "df.columns = ['Y', 'X1', 'X2', 'X3']"
   ]
  },
  {
   "cell_type": "code",
   "execution_count": 26,
   "id": "b0445c8a-dd3e-409c-b5b9-a1d00ee1858d",
   "metadata": {},
   "outputs": [
    {
     "data": {
      "text/plain": [
       "2.232296893827158"
      ]
     },
     "execution_count": 26,
     "metadata": {},
     "output_type": "execute_result"
    }
   ],
   "source": [
    "# Ajuste de regresion lineal multiple \n",
    "model = ols('Y ~ X3', data = df).fit()\n",
    "\n",
    "from statsmodels.stats.stattools import durbin_watson\n",
    "\n",
    "# Prueba de Durbin-Watson\n",
    "durbin_watson(model.resid)"
   ]
  },
  {
   "cell_type": "markdown",
   "id": "05fcf4ed-7a6b-440c-948d-f72d89f03e4f",
   "metadata": {},
   "source": [
    "Conclusion: Dado que DW si es aprox. igual a 2, no podemos pensar que existe autocorrelacion entre los residuales"
   ]
  },
  {
   "cell_type": "markdown",
   "id": "90077296-ac57-476a-bdc5-a591601d4709",
   "metadata": {},
   "source": [
    "## Supuesto 3: Homoceasticidad (igual de varianzas)"
   ]
  },
  {
   "cell_type": "code",
   "execution_count": 29,
   "id": "b84c9df9-4e74-44bc-b257-06d23cf09835",
   "metadata": {},
   "outputs": [],
   "source": [
    "ResidCuad = Resid ** 2\n",
    "ResidCuad = pd.DataFrame(ResidCuad)"
   ]
  },
  {
   "cell_type": "code",
   "execution_count": 30,
   "id": "a09d376b-a11e-43ca-8a8a-4dcc37a7bbbc",
   "metadata": {},
   "outputs": [],
   "source": [
    "X1 = df.iloc[:, 1:]\n",
    "X1_df = pd.DataFrame(X1)\n",
    "X1Cuad = X1 ** 2\n",
    "X1Cuad_df = pd.DataFrame(X1Cuad)"
   ]
  },
  {
   "cell_type": "code",
   "execution_count": 31,
   "id": "dd596a01-de93-48c2-8fdc-88357f982f10",
   "metadata": {},
   "outputs": [],
   "source": [
    "df_Aux = pd.concat([ResidCuad, X1_df.reindex(y_df.index), X1Cuad_df.reindex(y_df.index)], axis = 1)\n",
    "df_Aux.columns = ['Residual', 'X1', 'X2', 'X3', 'X1Cuad', 'X2Cuad', 'X3Cuad']"
   ]
  },
  {
   "cell_type": "code",
   "execution_count": 32,
   "id": "73744733-aa4f-4394-998e-b275e779ac81",
   "metadata": {},
   "outputs": [
    {
     "data": {
      "text/plain": [
       "0.02861700968681591"
      ]
     },
     "execution_count": 32,
     "metadata": {},
     "output_type": "execute_result"
    }
   ],
   "source": [
    "# Ajuste de regresión lineal múltiple \n",
    "modelAux = ols('Residual ~ X3 + X1Cuad + X2Cuad + X3Cuad', data = df_Aux).fit()\n",
    "RSqAux = modelAux.rsquared\n",
    "RSqAux"
   ]
  },
  {
   "cell_type": "code",
   "execution_count": 33,
   "id": "f3c16027-f3e5-40b8-bfbc-0495bccaef17",
   "metadata": {},
   "outputs": [
    {
     "data": {
      "text/plain": [
       "4.006381356154227"
      ]
     },
     "execution_count": 33,
     "metadata": {},
     "output_type": "execute_result"
    }
   ],
   "source": [
    "Estadistico = len(y) * RSqAux\n",
    "Estadistico"
   ]
  },
  {
   "cell_type": "code",
   "execution_count": 34,
   "id": "ed74df55-1ea8-4189-a557-05f34ac78f84",
   "metadata": {},
   "outputs": [
    {
     "data": {
      "text/plain": [
       "4.605170185988092"
      ]
     },
     "execution_count": 34,
     "metadata": {},
     "output_type": "execute_result"
    }
   ],
   "source": [
    "Nivel_confianza = 0.90\n",
    "scipy.stats.chi2.ppf(Nivel_confianza, df = 2)"
   ]
  },
  {
   "cell_type": "markdown",
   "id": "82041e6e-2f0a-4c85-b313-251f2e5f0ce7",
   "metadata": {},
   "source": [
    "Conclusión : Al no superar al valor critico nuestro estadistico de prueba, no hay evidencia de Heterocedasticidad (desigualdad de varianza de los residuales)"
   ]
  },
  {
   "cell_type": "code",
   "execution_count": 36,
   "id": "bc31c00e-6896-491e-8319-a1d6d7153654",
   "metadata": {},
   "outputs": [
    {
     "name": "stdout",
     "output_type": "stream",
     "text": [
      "Estadistico de prueba:  5.021565693964494\n",
      "Valor p:  0.0812046435411481\n"
     ]
    }
   ],
   "source": [
    "# Alternativa para la prueba de white\n",
    "from statsmodels.stats.diagnostic import  het_white\n",
    "\n",
    "white_test = het_white(model.resid, model.model.exog)\n",
    "print(\"Estadistico de prueba: \", white_test[0])\n",
    "print(\"Valor p: \", white_test[1])"
   ]
  },
  {
   "cell_type": "markdown",
   "id": "22bca555-7000-4b4a-a0af-612cd9f17f76",
   "metadata": {},
   "source": [
    "Conclusion: A un nivel de Alpha = 10%, como tenemos un valor p inferior a Alpha, podemos rechazar la hipotesis de Homocedasticidad (lo cual implica que existe evidencia de Homocedasticidad)"
   ]
  },
  {
   "cell_type": "code",
   "execution_count": null,
   "id": "eda6568b-9254-447f-a4c2-7be725ff797c",
   "metadata": {},
   "outputs": [],
   "source": []
  }
 ],
 "metadata": {
  "kernelspec": {
   "display_name": "Python 3 (ipykernel)",
   "language": "python",
   "name": "python3"
  },
  "language_info": {
   "codemirror_mode": {
    "name": "ipython",
    "version": 3
   },
   "file_extension": ".py",
   "mimetype": "text/x-python",
   "name": "python",
   "nbconvert_exporter": "python",
   "pygments_lexer": "ipython3",
   "version": "3.12.4"
  }
 },
 "nbformat": 4,
 "nbformat_minor": 5
}
