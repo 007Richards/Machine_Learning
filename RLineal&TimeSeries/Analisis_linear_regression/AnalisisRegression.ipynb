{
 "cells": [
  {
   "cell_type": "code",
   "execution_count": 1,
   "id": "1cce78d1-5e74-4a35-93c6-a0dd6b956cef",
   "metadata": {},
   "outputs": [],
   "source": [
    "import pandas as pd\n",
    "import numpy as np\n",
    "\n",
    "import warnings\n",
    "warnings.filterwarnings(\"ignore\")\n",
    "\n",
    "import os\n",
    "os.chdir(\"/Users/admin/Downloads/EBAC/dataframesEbac\")"
   ]
  },
  {
   "cell_type": "code",
   "execution_count": 2,
   "id": "261c4ace-546e-4de1-b41d-330b4d9ea890",
   "metadata": {},
   "outputs": [
    {
     "data": {
      "text/html": [
       "<div>\n",
       "<style scoped>\n",
       "    .dataframe tbody tr th:only-of-type {\n",
       "        vertical-align: middle;\n",
       "    }\n",
       "\n",
       "    .dataframe tbody tr th {\n",
       "        vertical-align: top;\n",
       "    }\n",
       "\n",
       "    .dataframe thead th {\n",
       "        text-align: right;\n",
       "    }\n",
       "</style>\n",
       "<table border=\"1\" class=\"dataframe\">\n",
       "  <thead>\n",
       "    <tr style=\"text-align: right;\">\n",
       "      <th></th>\n",
       "      <th>id</th>\n",
       "      <th>date</th>\n",
       "      <th>price</th>\n",
       "      <th>bedrooms</th>\n",
       "      <th>bathrooms</th>\n",
       "      <th>sqft_living</th>\n",
       "      <th>sqft_lot</th>\n",
       "      <th>floors</th>\n",
       "      <th>waterfront</th>\n",
       "      <th>view</th>\n",
       "      <th>...</th>\n",
       "      <th>grade</th>\n",
       "      <th>sqft_above</th>\n",
       "      <th>sqft_basement</th>\n",
       "      <th>yr_built</th>\n",
       "      <th>yr_renovated</th>\n",
       "      <th>zipcode</th>\n",
       "      <th>lat</th>\n",
       "      <th>long</th>\n",
       "      <th>sqft_living15</th>\n",
       "      <th>sqft_lot15</th>\n",
       "    </tr>\n",
       "  </thead>\n",
       "  <tbody>\n",
       "    <tr>\n",
       "      <th>0</th>\n",
       "      <td>7129300520</td>\n",
       "      <td>20141013T000000</td>\n",
       "      <td>221900.0</td>\n",
       "      <td>3</td>\n",
       "      <td>1.00</td>\n",
       "      <td>1180</td>\n",
       "      <td>5650</td>\n",
       "      <td>1.0</td>\n",
       "      <td>0</td>\n",
       "      <td>0</td>\n",
       "      <td>...</td>\n",
       "      <td>7</td>\n",
       "      <td>1180</td>\n",
       "      <td>0</td>\n",
       "      <td>1955</td>\n",
       "      <td>0</td>\n",
       "      <td>98178</td>\n",
       "      <td>47.5112</td>\n",
       "      <td>-122.257</td>\n",
       "      <td>1340</td>\n",
       "      <td>5650</td>\n",
       "    </tr>\n",
       "    <tr>\n",
       "      <th>1</th>\n",
       "      <td>6414100192</td>\n",
       "      <td>20141209T000000</td>\n",
       "      <td>538000.0</td>\n",
       "      <td>3</td>\n",
       "      <td>2.25</td>\n",
       "      <td>2570</td>\n",
       "      <td>7242</td>\n",
       "      <td>2.0</td>\n",
       "      <td>0</td>\n",
       "      <td>0</td>\n",
       "      <td>...</td>\n",
       "      <td>7</td>\n",
       "      <td>2170</td>\n",
       "      <td>400</td>\n",
       "      <td>1951</td>\n",
       "      <td>1991</td>\n",
       "      <td>98125</td>\n",
       "      <td>47.7210</td>\n",
       "      <td>-122.319</td>\n",
       "      <td>1690</td>\n",
       "      <td>7639</td>\n",
       "    </tr>\n",
       "    <tr>\n",
       "      <th>2</th>\n",
       "      <td>5631500400</td>\n",
       "      <td>20150225T000000</td>\n",
       "      <td>180000.0</td>\n",
       "      <td>2</td>\n",
       "      <td>1.00</td>\n",
       "      <td>770</td>\n",
       "      <td>10000</td>\n",
       "      <td>1.0</td>\n",
       "      <td>0</td>\n",
       "      <td>0</td>\n",
       "      <td>...</td>\n",
       "      <td>6</td>\n",
       "      <td>770</td>\n",
       "      <td>0</td>\n",
       "      <td>1933</td>\n",
       "      <td>0</td>\n",
       "      <td>98028</td>\n",
       "      <td>47.7379</td>\n",
       "      <td>-122.233</td>\n",
       "      <td>2720</td>\n",
       "      <td>8062</td>\n",
       "    </tr>\n",
       "    <tr>\n",
       "      <th>3</th>\n",
       "      <td>2487200875</td>\n",
       "      <td>20141209T000000</td>\n",
       "      <td>604000.0</td>\n",
       "      <td>4</td>\n",
       "      <td>3.00</td>\n",
       "      <td>1960</td>\n",
       "      <td>5000</td>\n",
       "      <td>1.0</td>\n",
       "      <td>0</td>\n",
       "      <td>0</td>\n",
       "      <td>...</td>\n",
       "      <td>7</td>\n",
       "      <td>1050</td>\n",
       "      <td>910</td>\n",
       "      <td>1965</td>\n",
       "      <td>0</td>\n",
       "      <td>98136</td>\n",
       "      <td>47.5208</td>\n",
       "      <td>-122.393</td>\n",
       "      <td>1360</td>\n",
       "      <td>5000</td>\n",
       "    </tr>\n",
       "    <tr>\n",
       "      <th>4</th>\n",
       "      <td>1954400510</td>\n",
       "      <td>20150218T000000</td>\n",
       "      <td>510000.0</td>\n",
       "      <td>3</td>\n",
       "      <td>2.00</td>\n",
       "      <td>1680</td>\n",
       "      <td>8080</td>\n",
       "      <td>1.0</td>\n",
       "      <td>0</td>\n",
       "      <td>0</td>\n",
       "      <td>...</td>\n",
       "      <td>8</td>\n",
       "      <td>1680</td>\n",
       "      <td>0</td>\n",
       "      <td>1987</td>\n",
       "      <td>0</td>\n",
       "      <td>98074</td>\n",
       "      <td>47.6168</td>\n",
       "      <td>-122.045</td>\n",
       "      <td>1800</td>\n",
       "      <td>7503</td>\n",
       "    </tr>\n",
       "  </tbody>\n",
       "</table>\n",
       "<p>5 rows × 21 columns</p>\n",
       "</div>"
      ],
      "text/plain": [
       "           id             date     price  bedrooms  bathrooms  sqft_living  \\\n",
       "0  7129300520  20141013T000000  221900.0         3       1.00         1180   \n",
       "1  6414100192  20141209T000000  538000.0         3       2.25         2570   \n",
       "2  5631500400  20150225T000000  180000.0         2       1.00          770   \n",
       "3  2487200875  20141209T000000  604000.0         4       3.00         1960   \n",
       "4  1954400510  20150218T000000  510000.0         3       2.00         1680   \n",
       "\n",
       "   sqft_lot  floors  waterfront  view  ...  grade  sqft_above  sqft_basement  \\\n",
       "0      5650     1.0           0     0  ...      7        1180              0   \n",
       "1      7242     2.0           0     0  ...      7        2170            400   \n",
       "2     10000     1.0           0     0  ...      6         770              0   \n",
       "3      5000     1.0           0     0  ...      7        1050            910   \n",
       "4      8080     1.0           0     0  ...      8        1680              0   \n",
       "\n",
       "   yr_built  yr_renovated  zipcode      lat     long  sqft_living15  \\\n",
       "0      1955             0    98178  47.5112 -122.257           1340   \n",
       "1      1951          1991    98125  47.7210 -122.319           1690   \n",
       "2      1933             0    98028  47.7379 -122.233           2720   \n",
       "3      1965             0    98136  47.5208 -122.393           1360   \n",
       "4      1987             0    98074  47.6168 -122.045           1800   \n",
       "\n",
       "   sqft_lot15  \n",
       "0        5650  \n",
       "1        7639  \n",
       "2        8062  \n",
       "3        5000  \n",
       "4        7503  \n",
       "\n",
       "[5 rows x 21 columns]"
      ]
     },
     "execution_count": 2,
     "metadata": {},
     "output_type": "execute_result"
    }
   ],
   "source": [
    "df = pd.read_csv(\"kc house data.csv\")\n",
    "df.head()"
   ]
  },
  {
   "cell_type": "code",
   "execution_count": 3,
   "id": "ee27c5fa-9f64-48de-b6bf-3cc7bbf9cc6b",
   "metadata": {},
   "outputs": [],
   "source": [
    "df[\"Intercepto\"] = 1\n",
    "df = df[['Intercepto', 'bedrooms', 'bathrooms', 'sqft_living',\n",
    "         'sqft_lot', 'floors', 'waterfront', 'view', 'condition',\n",
    "         'grade', 'sqft_above', 'sqft_basement', 'lat', \n",
    "         'sqft_living15', 'sqft_lot15', \"price\"]]"
   ]
  },
  {
   "cell_type": "code",
   "execution_count": 4,
   "id": "1443c424-3b71-402e-9aa5-186175623aa3",
   "metadata": {},
   "outputs": [],
   "source": [
    "Xdata = df[['Intercepto', 'bedrooms', 'bathrooms', 'sqft_living',\n",
    "         'sqft_lot', 'floors', 'waterfront', 'view', 'condition',\n",
    "         'grade', 'sqft_above', 'sqft_basement', 'lat', \n",
    "         'sqft_living15', 'sqft_lot15']].values\n",
    "Ydata = df[[\"price\"]].values"
   ]
  },
  {
   "cell_type": "code",
   "execution_count": 5,
   "id": "09db3ae2-7541-40f1-b12e-21a62c1d1982",
   "metadata": {},
   "outputs": [],
   "source": [
    "# Bases de entrenamiento y de prueba\n",
    "from sklearn.model_selection import train_test_split\n",
    "x_train, x_test, y_train, y_test = train_test_split(Xdata, Ydata, test_size = 0.3, random_state = 42) "
   ]
  },
  {
   "cell_type": "code",
   "execution_count": 6,
   "id": "ab26584a-4d31-474b-8cde-b8ad47087630",
   "metadata": {},
   "outputs": [],
   "source": [
    "x = x_train\n",
    "y = y_train"
   ]
  },
  {
   "cell_type": "code",
   "execution_count": 7,
   "id": "e69d74c3-3c13-4a87-b2d6-568ec055f614",
   "metadata": {},
   "outputs": [],
   "source": [
    "# Para el formato numerico\n",
    "np.set_printoptions(formatter = {'float_kind':'{:f}'.format})"
   ]
  },
  {
   "cell_type": "code",
   "execution_count": 8,
   "id": "21c1fc42-6101-467b-ba7e-26d824c88af0",
   "metadata": {
    "scrolled": true
   },
   "outputs": [
    {
     "data": {
      "text/plain": [
       "array([[15129.000000, 50920.000000, 31950.000000, 31371248.000000,\n",
       "        226817902.000000, 22698.500000, 107.000000, 3505.000000,\n",
       "        51554.000000, 115786.000000, 27025457.000000, 4345791.000000,\n",
       "        719544.185800, 29987816.000000, 194008745.000000],\n",
       "       [50920.000000, 184576.000000, 113098.500000, 112946629.000000,\n",
       "        781750168.000000, 77739.000000, 341.000000, 12524.000000,\n",
       "        173765.000000, 395552.000000, 96474222.000000, 16472407.000000,\n",
       "        2421758.474400, 104642170.000000, 663218485.000000],\n",
       "       [31950.000000, 113098.500000, 76350.375000, 74204170.250000,\n",
       "        518157381.000000, 51122.625000, 278.750000, 8969.750000,\n",
       "        107899.000000, 253574.000000, 63638836.250000, 10565334.000000,\n",
       "        1519603.672050, 67807370.250000, 434047397.000000],\n",
       "       [31371248.000000, 112946629.000000, 74204170.250000,\n",
       "        77624916550.000000, 565805136054.000000, 49678151.000000,\n",
       "        325352.000000, 10130645.000000, 106361843.000000,\n",
       "        252426476.000000, 66048635084.000000, 11576281466.000000,\n",
       "        1492137833.243100, 69307308055.000000, 468050421264.000000],\n",
       "       [226817902.000000, 781750168.000000, 518157381.000000,\n",
       "        565805136054.000000, 26933095929938.000000, 339026020.500000,\n",
       "        2984957.000000, 79980494.000000, 769092145.000000,\n",
       "        1816917926.000000, 496720057033.000000, 69085079021.000000,\n",
       "        10780718037.850500, 513838821480.000000, 14625559001179.000000],\n",
       "       [22698.500000, 77739.000000, 51122.625000, 49678151.000000,\n",
       "        339026020.500000, 38517.250000, 170.000000, 5416.500000,\n",
       "        75896.000000, 178146.500000, 44063429.500000, 5614721.500000,\n",
       "        1079614.544350, 46522962.000000, 288453183.500000],\n",
       "       [107.000000, 341.000000, 278.750000, 325352.000000,\n",
       "        2984957.000000, 170.000000, 107.000000, 398.000000, 383.000000,\n",
       "        910.000000, 251783.000000, 73569.000000, 5085.696800,\n",
       "        273745.000000, 2538567.000000],\n",
       "       [3505.000000, 12524.000000, 8969.750000, 10130645.000000,\n",
       "        79980494.000000, 5416.500000, 398.000000, 9551.000000,\n",
       "        12323.000000, 30103.000000, 7769858.000000, 2360787.000000,\n",
       "        166699.611600, 9102927.000000, 65092685.000000],\n",
       "       [51554.000000, 173765.000000, 107899.000000, 106361843.000000,\n",
       "        769092145.000000, 75896.000000, 383.000000, 12323.000000,\n",
       "        182094.000000, 392848.000000, 90788427.000000, 15573416.000000,\n",
       "        2451905.445300, 101519293.000000, 658833166.000000],\n",
       "       [115786.000000, 395552.000000, 253574.000000, 252426476.000000,\n",
       "        1816917926.000000, 178146.500000, 910.000000, 30103.000000,\n",
       "        392848.000000, 906974.000000, 217916476.000000, 34510000.000000,\n",
       "        5507144.607600, 238108651.000000, 1540410922.000000],\n",
       "       [27025457.000000, 96474222.000000, 63638836.250000,\n",
       "        66048635084.000000, 496720057033.000000, 44063429.500000,\n",
       "        251783.000000, 7769858.000000, 90788427.000000, 217916476.000000,\n",
       "        58631630911.000000, 7417004173.000000, 1285343329.192700,\n",
       "        59822568983.000000, 410049120382.000000],\n",
       "       [4345791.000000, 16472407.000000, 10565334.000000,\n",
       "        11576281466.000000, 69085079021.000000, 5614721.500000,\n",
       "        73569.000000, 2360787.000000, 15573416.000000, 34510000.000000,\n",
       "        7417004173.000000, 4159277293.000000, 206794504.050400,\n",
       "        9484739072.000000, 58001300882.000000],\n",
       "       [719544.185800, 2421758.474400, 1519603.672050, 1492137833.243100,\n",
       "        10780718037.850500, 1079614.544350, 5085.696800, 166699.611600,\n",
       "        2451905.445300, 5507144.607600, 1285343329.192700,\n",
       "        206794504.050400, 34222237.403582, 1426310750.666600,\n",
       "        9222112783.524700],\n",
       "       [29987816.000000, 104642170.000000, 67807370.250000,\n",
       "        69307308055.000000, 513838821480.000000, 46522962.000000,\n",
       "        273745.000000, 9102927.000000, 101519293.000000,\n",
       "        238108651.000000, 59822568983.000000, 9484739072.000000,\n",
       "        1426310750.666600, 66511323460.000000, 437765655450.000000],\n",
       "       [194008745.000000, 663218485.000000, 434047397.000000,\n",
       "        468050421264.000000, 14625559001179.000000, 288453183.500000,\n",
       "        2538567.000000, 65092685.000000, 658833166.000000,\n",
       "        1540410922.000000, 410049120382.000000, 58001300882.000000,\n",
       "        9222112783.524700, 437765655450.000000, 13770093888083.000000]])"
      ]
     },
     "execution_count": 8,
     "metadata": {},
     "output_type": "execute_result"
    }
   ],
   "source": [
    "XT_X = np.matmul(np.matrix.transpose(x), x)\n",
    "XT_X"
   ]
  },
  {
   "cell_type": "code",
   "execution_count": 9,
   "id": "ba6de85e-8554-4c99-9b0d-18e71a9952be",
   "metadata": {
    "scrolled": true
   },
   "outputs": [
    {
     "data": {
      "text/plain": [
       "array([[8.237747, -0.001665, -0.003774, 0.019937, -0.000000, 0.004233,\n",
       "        -0.003761, -0.001647, -0.001340, 0.003910, -0.019939, -0.019927,\n",
       "        -0.173567, 0.000001, -0.000000],\n",
       "       [-0.001665, 0.000124, -0.000039, -0.000004, 0.000000, 0.000009,\n",
       "        0.000058, 0.000011, -0.000009, 0.000020, 0.000003, 0.000004,\n",
       "        0.000028, 0.000000, 0.000000],\n",
       "       [-0.003774, -0.000039, 0.000335, -0.000008, 0.000000, -0.000137,\n",
       "        -0.000017, 0.000007, 0.000011, -0.000036, 0.000008, 0.000007,\n",
       "        0.000082, 0.000000, 0.000000],\n",
       "       [0.002570, -0.000001, -0.000003, -524287.999994, 0.000000,\n",
       "        0.000003, -0.000002, -0.000001, 0.000001, -0.000001,\n",
       "        524287.999994, 524287.999994, -0.000054, 0.000000, -0.000000],\n",
       "       [-0.000000, 0.000000, 0.000000, -0.000000, 0.000000, 0.000000,\n",
       "        0.000000, -0.000000, 0.000000, -0.000000, 0.000000, 0.000000,\n",
       "        0.000000, 0.000000, -0.000000],\n",
       "       [0.004233, 0.000009, -0.000137, 0.000010, 0.000000, 0.000429,\n",
       "        -0.000008, -0.000007, 0.000040, -0.000040, -0.000010, -0.000009,\n",
       "        -0.000095, 0.000000, 0.000000],\n",
       "       [-0.003761, 0.000058, -0.000017, -0.000009, 0.000000, -0.000008,\n",
       "        0.011150, -0.000491, -0.000008, 0.000049, 0.000005, 0.000003,\n",
       "        0.000071, 0.000000, -0.000000],\n",
       "       [-0.001647, 0.000011, 0.000007, -0.000004, -0.000000, -0.000007,\n",
       "        -0.000491, 0.000155, -0.000007, -0.000012, 0.000004, 0.000004,\n",
       "        0.000037, -0.000000, 0.000000],\n",
       "       [-0.001340, -0.000009, 0.000011, -0.000005, 0.000000, 0.000040,\n",
       "        -0.000008, -0.000007, 0.000173, 0.000006, 0.000005, 0.000005,\n",
       "        0.000014, 0.000000, -0.000000],\n",
       "       [0.003910, 0.000020, -0.000036, 0.000007, -0.000000, -0.000040,\n",
       "        0.000049, -0.000012, 0.000006, 0.000154, -0.000007, -0.000007,\n",
       "        -0.000099, -0.000000, 0.000000],\n",
       "       [-0.002572, 0.000001, 0.000003, 524287.999994, -0.000000,\n",
       "        -0.000003, 0.000002, 0.000001, -0.000001, 0.000001,\n",
       "        -524287.999994, -524287.999994, 0.000054, -0.000000, 0.000000],\n",
       "       [-0.002561, 0.000001, 0.000003, 524287.999994, -0.000000,\n",
       "        -0.000003, 0.000002, 0.000001, -0.000001, 0.000001,\n",
       "        -524287.999994, -524287.999994, 0.000054, -0.000000, 0.000000],\n",
       "       [-0.173567, 0.000028, 0.000082, -0.000420, 0.000000, -0.000095,\n",
       "        0.000071, 0.000037, 0.000014, -0.000099, 0.000420, 0.000420,\n",
       "        0.003661, -0.000000, 0.000000],\n",
       "       [0.000001, 0.000000, 0.000000, 0.000000, 0.000000, 0.000000,\n",
       "        0.000000, -0.000000, 0.000000, -0.000000, -0.000000, -0.000000,\n",
       "        -0.000000, 0.000000, -0.000000],\n",
       "       [-0.000000, 0.000000, 0.000000, -0.000000, -0.000000, 0.000000,\n",
       "        -0.000000, 0.000000, -0.000000, 0.000000, 0.000000, 0.000000,\n",
       "        0.000000, -0.000000, 0.000000]])"
      ]
     },
     "execution_count": 9,
     "metadata": {},
     "output_type": "execute_result"
    }
   ],
   "source": [
    "XT_X_INV = np.linalg.inv(XT_X)\n",
    "XT_X_INV"
   ]
  },
  {
   "cell_type": "code",
   "execution_count": 10,
   "id": "b2ad709e-f01e-400e-96ba-9aea9d913bcd",
   "metadata": {},
   "outputs": [
    {
     "data": {
      "text/plain": [
       "array([[8133958180.000000],\n",
       "       [28939079266.000000],\n",
       "       [19386244492.500000],\n",
       "       [20381005556018.000000],\n",
       "       [141717316357177.000000],\n",
       "       [12955823905.000000],\n",
       "       [169609992.000000],\n",
       "       [3503680862.000000],\n",
       "       [27820632866.000000],\n",
       "       [66536464071.000000],\n",
       "       [17279771558990.000000],\n",
       "       [3101233997028.000000],\n",
       "       [387089755992.378906],\n",
       "       [18298305871511.000000],\n",
       "       [115934297483278.000000]])"
      ]
     },
     "execution_count": 10,
     "metadata": {},
     "output_type": "execute_result"
    }
   ],
   "source": [
    "XT_Y = np.matmul(np.matrix.transpose(x), y)\n",
    "XT_Y"
   ]
  },
  {
   "cell_type": "code",
   "execution_count": 11,
   "id": "514e29bc-2b2f-4e78-8bab-543d335c9b56",
   "metadata": {},
   "outputs": [
    {
     "data": {
      "text/plain": [
       "array([[-27775026.664207],\n",
       "       [1287002.873307],\n",
       "       [-2759262.947842],\n",
       "       [-7203.833116],\n",
       "       [-2.210400],\n",
       "       [704614.546256],\n",
       "       [-77562084.554571],\n",
       "       [3477707.555431],\n",
       "       [326385.539967],\n",
       "       [-1652301.417135],\n",
       "       [13497.470677],\n",
       "       [12727.964559],\n",
       "       [664588.134077],\n",
       "       [2.753439],\n",
       "       [-0.512404]])"
      ]
     },
     "execution_count": 11,
     "metadata": {},
     "output_type": "execute_result"
    }
   ],
   "source": [
    "betas = np.matmul(XT_X_INV, XT_Y)\n",
    "betas"
   ]
  },
  {
   "cell_type": "code",
   "execution_count": 12,
   "id": "dec58cbf-12bd-4e7e-bcbe-485f713b0a25",
   "metadata": {},
   "outputs": [
    {
     "data": {
      "text/plain": [
       "array([[1976541971405901.000000]])"
      ]
     },
     "execution_count": 12,
     "metadata": {},
     "output_type": "execute_result"
    }
   ],
   "source": [
    "# Calculo de TSS (Suma de total de cuadrados)\n",
    "TSS = np.matmul(np.matrix.transpose(y), y) - len(y) * (y.mean()**2)\n",
    "TSS"
   ]
  },
  {
   "cell_type": "code",
   "execution_count": 13,
   "id": "db97c0a8-59fd-4705-ae20-a5d18cfdfb74",
   "metadata": {},
   "outputs": [
    {
     "data": {
      "text/plain": [
       "array([[1152220793689535744.000000]])"
      ]
     },
     "execution_count": 13,
     "metadata": {},
     "output_type": "execute_result"
    }
   ],
   "source": [
    "# Calculo del ESS  (Suma explicita de cuadrados)\n",
    "ESS = np.matmul(np.matmul(np.matrix.transpose(betas),  np.matrix.transpose(x)),  np.matmul(x, betas)) - len(y) * (y.mean()**2)\n",
    "ESS"
   ]
  },
  {
   "cell_type": "code",
   "execution_count": 14,
   "id": "d5499465-8c65-4137-83d4-f417c449e255",
   "metadata": {},
   "outputs": [
    {
     "data": {
      "text/plain": [
       "array([[-1150244251718129792.000000]])"
      ]
     },
     "execution_count": 14,
     "metadata": {},
     "output_type": "execute_result"
    }
   ],
   "source": [
    "# Calculo de RSS (Residuales al Cuadrado)\n",
    "RSS = TSS - ESS\n",
    "RSS"
   ]
  },
  {
   "cell_type": "code",
   "execution_count": 15,
   "id": "d790038e-93eb-4560-8d83-3c35cbc8d903",
   "metadata": {},
   "outputs": [
    {
     "data": {
      "text/plain": [
       "array([[582.947800]])"
      ]
     },
     "execution_count": 15,
     "metadata": {},
     "output_type": "execute_result"
    }
   ],
   "source": [
    "# Calculo del coeficiente de Determinacion R Cuadrada\n",
    "RSq = 1 - (RSS/TSS)\n",
    "RSq"
   ]
  },
  {
   "cell_type": "code",
   "execution_count": 16,
   "id": "50648eab-36d9-48b5-9c32-88c988bfe542",
   "metadata": {},
   "outputs": [
    {
     "data": {
      "text/plain": [
       "array([[583.486854]])"
      ]
     },
     "execution_count": 16,
     "metadata": {},
     "output_type": "execute_result"
    }
   ],
   "source": [
    "# Calculo del Coeficiente de determinacion R cuadrada Ajustada\n",
    "RSqAj = 1 - (RSS / (x.shape[0] - x.shape[1])) / (TSS / (x.shape[0] - 1))\n",
    "RSqAj"
   ]
  },
  {
   "cell_type": "code",
   "execution_count": 17,
   "id": "9ac0e8f2-cffc-41b2-a0ab-8eb09426a842",
   "metadata": {},
   "outputs": [
    {
     "data": {
      "text/plain": [
       "array([[5199074.558778],\n",
       "       [8603436.263902],\n",
       "       [16962369.799608],\n",
       "       ...,\n",
       "       [2385677.917864],\n",
       "       [4400400.173287],\n",
       "       [7334424.386798]])"
      ]
     },
     "execution_count": 17,
     "metadata": {},
     "output_type": "execute_result"
    }
   ],
   "source": [
    "# Aplicacion sobre la base de prueba\n",
    "y_pred = np.matmul(x_test, betas)\n",
    "y_pred"
   ]
  },
  {
   "cell_type": "code",
   "execution_count": 18,
   "id": "9d5bc3d1-c7b9-4122-ac2c-ab4ae8fb9d9c",
   "metadata": {},
   "outputs": [
    {
     "data": {
      "text/plain": [
       "array([[-4834074.558778],\n",
       "       [-7738436.263902],\n",
       "       [-15924369.799608],\n",
       "       ...,\n",
       "       [-1975177.917864],\n",
       "       [-3460400.173287],\n",
       "       [-6924424.386798]])"
      ]
     },
     "execution_count": 18,
     "metadata": {},
     "output_type": "execute_result"
    }
   ],
   "source": [
    "# Calculo de residuales\n",
    "Resid = y_test - y_pred\n",
    "Resid"
   ]
  },
  {
   "cell_type": "code",
   "execution_count": 19,
   "id": "3003a4a3-2f82-4eb8-8b01-8b65675b43b5",
   "metadata": {},
   "outputs": [
    {
     "data": {
      "text/plain": [
       "array([[<Axes: title={'center': '0'}>]], dtype=object)"
      ]
     },
     "execution_count": 19,
     "metadata": {},
     "output_type": "execute_result"
    },
    {
     "data": {
      "image/png": "[encoded data removed]",
      "text/plain": [
       "<Figure size 640x480 with 1 Axes>"
      ]
     },
     "metadata": {},
     "output_type": "display_data"
    }
   ],
   "source": [
    "# Grafico del histograma de residuales para la base de prueba\n",
    "dfh = pd.DataFrame(Resid)\n",
    "dfh.hist()"
   ]
  },
  {
   "cell_type": "code",
   "execution_count": 20,
   "id": "0589a4b7-752f-48b9-8a68-b2535678ae4f",
   "metadata": {},
   "outputs": [
    {
     "name": "stdout",
     "output_type": "stream",
     "text": [
      "                            OLS Regression Results                            \n",
      "==============================================================================\n",
      "Dep. Variable:                      y   R-squared:                       0.667\n",
      "Model:                            OLS   Adj. R-squared:                  0.667\n",
      "Method:                 Least Squares   F-statistic:                     2333.\n",
      "Date:                Sat, 29 Mar 2025   Prob (F-statistic):               0.00\n",
      "Time:                        17:42:10   Log-Likelihood:            -2.0676e+05\n",
      "No. Observations:               15129   AIC:                         4.135e+05\n",
      "Df Residuals:                   15115   BIC:                         4.137e+05\n",
      "Df Model:                          13                                         \n",
      "Covariance Type:            nonrobust                                         \n",
      "==============================================================================\n",
      "                 coef    std err          t      P>|t|      [0.025      0.975]\n",
      "------------------------------------------------------------------------------\n",
      "const      -3.217e+07   5.99e+05    -53.754      0.000   -3.33e+07    -3.1e+07\n",
      "x1         -2.837e+04   2318.510    -12.237      0.000   -3.29e+04   -2.38e+04\n",
      "x2           996.2569   3815.695      0.261      0.794   -6482.966    8475.480\n",
      "x3           127.8641      2.782     45.963      0.000     122.411     133.317\n",
      "x4             0.1058      0.062      1.701      0.089      -0.016       0.228\n",
      "x5          -2.27e+04   4318.218     -5.256      0.000   -3.12e+04   -1.42e+04\n",
      "x6          5.691e+05    2.2e+04     25.843      0.000    5.26e+05    6.12e+05\n",
      "x7           6.78e+04   2600.137     26.075      0.000    6.27e+04    7.29e+04\n",
      "x8          5.076e+04   2742.952     18.507      0.000    4.54e+04    5.61e+04\n",
      "x9          8.208e+04   2584.313     31.763      0.000     7.7e+04    8.72e+04\n",
      "x10           72.0867      2.721     26.489      0.000      66.752      77.421\n",
      "x11           55.7771      3.224     17.300      0.000      49.457      62.097\n",
      "x12         6.646e+05   1.26e+04     52.672      0.000     6.4e+05    6.89e+05\n",
      "x13            2.7534      4.143      0.665      0.506      -5.368      10.874\n",
      "x14           -0.5124      0.090     -5.676      0.000      -0.689      -0.335\n",
      "==============================================================================\n",
      "Omnibus:                    13470.255   Durbin-Watson:                   1.985\n",
      "Prob(Omnibus):                  0.000   Jarque-Bera (JB):          1551936.285\n",
      "Skew:                           3.804   Prob(JB):                         0.00\n",
      "Kurtosis:                      52.031   Cond. No.                     1.91e+17\n",
      "==============================================================================\n",
      "\n",
      "Notes:\n",
      "[1] Standard Errors assume that the covariance matrix of the errors is correctly specified.\n",
      "[2] The smallest eigenvalue is  1e-21. This might indicate that there are\n",
      "strong multicollinearity problems or that the design matrix is singular.\n"
     ]
    }
   ],
   "source": [
    "# Reporte Automaizado de la regresion en Python\n",
    "import statsmodels.api as sm\n",
    "\n",
    "regressor = sm.OLS(y, x).fit()\n",
    "print(regressor.summary())"
   ]
  },
  {
   "cell_type": "code",
   "execution_count": 21,
   "id": "d345aaf4-29cc-429d-8c4c-957d0c11e31b",
   "metadata": {},
   "outputs": [],
   "source": [
    "from sklearn.metrics import r2_score\n",
    "from sklearn import metrics"
   ]
  },
  {
   "cell_type": "code",
   "execution_count": 22,
   "id": "39de8096-95ca-4101-8027-415a4bb65cc0",
   "metadata": {},
   "outputs": [
    {
     "name": "stdout",
     "output_type": "stream",
     "text": [
      "Coeficiente R cuadrado -528.3571919927898\n"
     ]
    }
   ],
   "source": [
    "print('Coeficiente R cuadrado', r2_score(y_test, y_pred))"
   ]
  }
 ],
 "metadata": {
  "kernelspec": {
   "display_name": "Python 3 (ipykernel)",
   "language": "python",
   "name": "python3"
  },
  "language_info": {
   "codemirror_mode": {
    "name": "ipython",
    "version": 3
   },
   "file_extension": ".py",
   "mimetype": "text/x-python",
   "name": "python",
   "nbconvert_exporter": "python",
   "pygments_lexer": "ipython3",
   "version": "3.12.4"
  }
 },
 "nbformat": 4,
 "nbformat_minor": 5
}
