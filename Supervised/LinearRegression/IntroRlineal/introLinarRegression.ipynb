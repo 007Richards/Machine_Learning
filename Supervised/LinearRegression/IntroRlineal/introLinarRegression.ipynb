{
 "cells": [
  {
   "cell_type": "code",
   "execution_count": 80,
   "id": "7354ba17-1c98-445e-8146-32852f5b209d",
   "metadata": {},
   "outputs": [
    {
     "data": {
      "text/html": [
       "<div>\n",
       "<style scoped>\n",
       "    .dataframe tbody tr th:only-of-type {\n",
       "        vertical-align: middle;\n",
       "    }\n",
       "\n",
       "    .dataframe tbody tr th {\n",
       "        vertical-align: top;\n",
       "    }\n",
       "\n",
       "    .dataframe thead th {\n",
       "        text-align: right;\n",
       "    }\n",
       "</style>\n",
       "<table border=\"1\" class=\"dataframe\">\n",
       "  <thead>\n",
       "    <tr style=\"text-align: right;\">\n",
       "      <th></th>\n",
       "      <th>Periodo</th>\n",
       "      <th>GDP</th>\n",
       "    </tr>\n",
       "  </thead>\n",
       "  <tbody>\n",
       "    <tr>\n",
       "      <th>0</th>\n",
       "      <td>1960</td>\n",
       "      <td>1.304000e+10</td>\n",
       "    </tr>\n",
       "    <tr>\n",
       "      <th>1</th>\n",
       "      <td>1961</td>\n",
       "      <td>1.416000e+10</td>\n",
       "    </tr>\n",
       "    <tr>\n",
       "      <th>2</th>\n",
       "      <td>1962</td>\n",
       "      <td>1.520000e+10</td>\n",
       "    </tr>\n",
       "    <tr>\n",
       "      <th>3</th>\n",
       "      <td>1963</td>\n",
       "      <td>1.696000e+10</td>\n",
       "    </tr>\n",
       "    <tr>\n",
       "      <th>4</th>\n",
       "      <td>1964</td>\n",
       "      <td>2.008000e+10</td>\n",
       "    </tr>\n",
       "    <tr>\n",
       "      <th>...</th>\n",
       "      <td>...</td>\n",
       "      <td>...</td>\n",
       "    </tr>\n",
       "    <tr>\n",
       "      <th>57</th>\n",
       "      <td>2017</td>\n",
       "      <td>1.158913e+12</td>\n",
       "    </tr>\n",
       "    <tr>\n",
       "      <th>58</th>\n",
       "      <td>2018</td>\n",
       "      <td>1.222408e+12</td>\n",
       "    </tr>\n",
       "    <tr>\n",
       "      <th>59</th>\n",
       "      <td>2019</td>\n",
       "      <td>1.269404e+12</td>\n",
       "    </tr>\n",
       "    <tr>\n",
       "      <th>60</th>\n",
       "      <td>2020</td>\n",
       "      <td>1.087118e+12</td>\n",
       "    </tr>\n",
       "    <tr>\n",
       "      <th>61</th>\n",
       "      <td>2021</td>\n",
       "      <td>1.293038e+12</td>\n",
       "    </tr>\n",
       "  </tbody>\n",
       "</table>\n",
       "<p>62 rows × 2 columns</p>\n",
       "</div>"
      ],
      "text/plain": [
       "    Periodo           GDP\n",
       "0      1960  1.304000e+10\n",
       "1      1961  1.416000e+10\n",
       "2      1962  1.520000e+10\n",
       "3      1963  1.696000e+10\n",
       "4      1964  2.008000e+10\n",
       "..      ...           ...\n",
       "57     2017  1.158913e+12\n",
       "58     2018  1.222408e+12\n",
       "59     2019  1.269404e+12\n",
       "60     2020  1.087118e+12\n",
       "61     2021  1.293038e+12\n",
       "\n",
       "[62 rows x 2 columns]"
      ]
     },
     "execution_count": 80,
     "metadata": {},
     "output_type": "execute_result"
    }
   ],
   "source": [
    "import pandas as pd\n",
    "import numpy as np\n",
    "import matplotlib.pyplot as plt\n",
    "from scipy.optimize import curve_fit\n",
    "from sklearn.metrics import r2_score\n",
    "df = pd.read_excel(\"GDP de México.xlsx\")\n",
    "df"
   ]
  },
  {
   "cell_type": "code",
   "execution_count": 82,
   "id": "269323ab-7773-437b-af78-e40854010432",
   "metadata": {},
   "outputs": [
    {
     "data": {
      "text/plain": [
       "Text(0, 0.5, 'Producto interno bruto')"
      ]
     },
     "execution_count": 82,
     "metadata": {},
     "output_type": "execute_result"
    },
    {
     "data": {
      "image/png": "[encoded data removed]",
      "text/plain": [
       "<Figure size 640x480 with 1 Axes>"
      ]
     },
     "metadata": {},
     "output_type": "display_data"
    }
   ],
   "source": [
    "plt.scatter(df.Periodo, df.GDP, color = 'green')\n",
    "plt.xlabel('Periodo')\n",
    "plt.ylabel('Producto interno bruto')"
   ]
  },
  {
   "cell_type": "code",
   "execution_count": 84,
   "id": "0902e2fc-c031-4d57-b805-acb1932f0d46",
   "metadata": {},
   "outputs": [],
   "source": [
    "def logistico(x, beta0, beta1):\n",
    "    y =  1 / (1 + np.exp(beta0 * (x - beta1)))\n",
    "    return y"
   ]
  },
  {
   "cell_type": "code",
   "execution_count": 86,
   "id": "82aeb6ec-e49f-49d6-891e-1ba6a27680da",
   "metadata": {},
   "outputs": [
    {
     "data": {
      "text/plain": [
       "array([False,  True, False,  True,  True, False,  True,  True,  True,\n",
       "        True,  True,  True,  True,  True,  True,  True,  True,  True,\n",
       "        True,  True,  True,  True, False,  True, False,  True, False,\n",
       "        True,  True,  True,  True, False, False,  True,  True,  True,\n",
       "        True,  True,  True,  True,  True,  True, False,  True, False,\n",
       "        True,  True,  True,  True,  True,  True, False,  True,  True,\n",
       "        True,  True,  True,  True,  True, False,  True,  True])"
      ]
     },
     "execution_count": 86,
     "metadata": {},
     "output_type": "execute_result"
    }
   ],
   "source": [
    "msk = np.random.rand(len(df)) <= 0.80\n",
    "msk"
   ]
  },
  {
   "cell_type": "code",
   "execution_count": 88,
   "id": "e51304f7-5885-4476-88d4-887480e089a5",
   "metadata": {},
   "outputs": [],
   "source": [
    "train_x = df[msk]['Periodo']\n",
    "test_x = df[~msk]['Periodo']\n",
    "train_y = df[msk]['GDP']\n",
    "test_y = df[~msk]['GDP']"
   ]
  },
  {
   "cell_type": "code",
   "execution_count": 90,
   "id": "e0c6689f-5018-4d10-8777-9b946fff8da9",
   "metadata": {},
   "outputs": [
    {
     "name": "stderr",
     "output_type": "stream",
     "text": [
      "/opt/anaconda3/lib/python3.12/site-packages/pandas/core/arraylike.py:399: RuntimeWarning: overflow encountered in exp\n",
      "  result = getattr(ufunc, method)(*inputs, **kwargs)\n",
      "/var/folders/c2/0hk0hmxd4zngvs6gpgdr_4qc0000gn/T/ipykernel_6358/3832967183.py:1: OptimizeWarning: Covariance of the parameters could not be estimated\n",
      "  popt, pcov = curve_fit(logistico, train_x, train_y)\n"
     ]
    }
   ],
   "source": [
    "popt, pcov = curve_fit(logistico, train_x, train_y)"
   ]
  },
  {
   "cell_type": "code",
   "execution_count": 92,
   "id": "61be8114-cd3b-4c31-8427-0a76b8dc69b9",
   "metadata": {},
   "outputs": [
    {
     "name": "stdout",
     "output_type": "stream",
     "text": [
      "beta0 = 1.0 beta1 = 1.0\n"
     ]
    }
   ],
   "source": [
    "print('beta0 =', popt[0], 'beta1 =', popt[1])"
   ]
  },
  {
   "cell_type": "code",
   "execution_count": 94,
   "id": "20cba481-4ce6-4842-a77b-44d185359d75",
   "metadata": {},
   "outputs": [
    {
     "name": "stderr",
     "output_type": "stream",
     "text": [
      "/opt/anaconda3/lib/python3.12/site-packages/pandas/core/arraylike.py:399: RuntimeWarning: overflow encountered in exp\n",
      "  result = getattr(ufunc, method)(*inputs, **kwargs)\n"
     ]
    }
   ],
   "source": [
    "# prediccion\n",
    "y_hat = logistico(test_x, *popt)"
   ]
  },
  {
   "cell_type": "code",
   "execution_count": 96,
   "id": "d87b1ff4-7ca0-4579-bd41-628f0c390de8",
   "metadata": {},
   "outputs": [
    {
     "name": "stdout",
     "output_type": "stream",
     "text": [
      "Mean absolute error: 436170164700.89\n",
      "Residual sum of squares (MSE): 377495667352996430217216.00\n",
      "R2-score: 0.00\n"
     ]
    }
   ],
   "source": [
    "# Evaluacion de los errores\n",
    "print('Mean absolute error: %.2f' % np.mean(np.absolute(y_hat - test_y)))\n",
    "print('Residual sum of squares (MSE): %.2f' % np.mean((y_hat - test_y)**2))\n",
    "print('R2-score: %.2f' % r2_score(y_hat, test_y))"
   ]
  },
  {
   "cell_type": "code",
   "execution_count": 98,
   "id": "cfe86a0a-2abf-4f2a-932e-d3725b69bc75",
   "metadata": {},
   "outputs": [
    {
     "data": {
      "image/png": "[encoded data removed]",
      "text/plain": [
       "<Figure size 640x480 with 1 Axes>"
      ]
     },
     "metadata": {},
     "output_type": "display_data"
    }
   ],
   "source": [
    "plt.plot(test_x, test_y, 'bo')\n",
    "plt.plot(test_x, y_hat, 'r')\n",
    "plt.xlabel('Independent Variable')\n",
    "plt.ylabel('Dependent Variable')\n",
    "plt.show()"
   ]
  },
  {
   "cell_type": "code",
   "execution_count": 100,
   "id": "67d431fe-5423-4f3e-9830-925f5a5aa51f",
   "metadata": {},
   "outputs": [
    {
     "data": {
      "text/html": [
       "<div>\n",
       "<style scoped>\n",
       "    .dataframe tbody tr th:only-of-type {\n",
       "        vertical-align: middle;\n",
       "    }\n",
       "\n",
       "    .dataframe tbody tr th {\n",
       "        vertical-align: top;\n",
       "    }\n",
       "\n",
       "    .dataframe thead th {\n",
       "        text-align: right;\n",
       "    }\n",
       "</style>\n",
       "<table border=\"1\" class=\"dataframe\">\n",
       "  <thead>\n",
       "    <tr style=\"text-align: right;\">\n",
       "      <th></th>\n",
       "      <th>Periodo</th>\n",
       "      <th>GDP</th>\n",
       "    </tr>\n",
       "  </thead>\n",
       "  <tbody>\n",
       "    <tr>\n",
       "      <th>0</th>\n",
       "      <td>0.000000</td>\n",
       "      <td>0.000000</td>\n",
       "    </tr>\n",
       "    <tr>\n",
       "      <th>1</th>\n",
       "      <td>0.016393</td>\n",
       "      <td>0.000860</td>\n",
       "    </tr>\n",
       "    <tr>\n",
       "      <th>2</th>\n",
       "      <td>0.032787</td>\n",
       "      <td>0.001659</td>\n",
       "    </tr>\n",
       "    <tr>\n",
       "      <th>3</th>\n",
       "      <td>0.049180</td>\n",
       "      <td>0.003010</td>\n",
       "    </tr>\n",
       "    <tr>\n",
       "      <th>4</th>\n",
       "      <td>0.065574</td>\n",
       "      <td>0.005406</td>\n",
       "    </tr>\n",
       "    <tr>\n",
       "      <th>...</th>\n",
       "      <td>...</td>\n",
       "      <td>...</td>\n",
       "    </tr>\n",
       "    <tr>\n",
       "      <th>57</th>\n",
       "      <td>0.934426</td>\n",
       "      <td>0.879877</td>\n",
       "    </tr>\n",
       "    <tr>\n",
       "      <th>58</th>\n",
       "      <td>0.950820</td>\n",
       "      <td>0.928632</td>\n",
       "    </tr>\n",
       "    <tr>\n",
       "      <th>59</th>\n",
       "      <td>0.967213</td>\n",
       "      <td>0.964719</td>\n",
       "    </tr>\n",
       "    <tr>\n",
       "      <th>60</th>\n",
       "      <td>0.983607</td>\n",
       "      <td>0.824747</td>\n",
       "    </tr>\n",
       "    <tr>\n",
       "      <th>61</th>\n",
       "      <td>1.000000</td>\n",
       "      <td>0.982866</td>\n",
       "    </tr>\n",
       "  </tbody>\n",
       "</table>\n",
       "<p>62 rows × 2 columns</p>\n",
       "</div>"
      ],
      "text/plain": [
       "     Periodo       GDP\n",
       "0   0.000000  0.000000\n",
       "1   0.016393  0.000860\n",
       "2   0.032787  0.001659\n",
       "3   0.049180  0.003010\n",
       "4   0.065574  0.005406\n",
       "..       ...       ...\n",
       "57  0.934426  0.879877\n",
       "58  0.950820  0.928632\n",
       "59  0.967213  0.964719\n",
       "60  0.983607  0.824747\n",
       "61  1.000000  0.982866\n",
       "\n",
       "[62 rows x 2 columns]"
      ]
     },
     "execution_count": 100,
     "metadata": {},
     "output_type": "execute_result"
    }
   ],
   "source": [
    "df_normalizado = (df - df.min()) / (df.max() - df.min())\n",
    "df_normalizado"
   ]
  },
  {
   "cell_type": "code",
   "execution_count": 102,
   "id": "47e18b1b-5565-42d6-92d5-55f0d7268c3a",
   "metadata": {},
   "outputs": [],
   "source": [
    "train_x = df_normalizado[msk]['Periodo']\n",
    "test_x = df_normalizado[~msk]['Periodo']\n",
    "train_y = df_normalizado[msk]['GDP']\n",
    "test_y = df_normalizado[~msk]['GDP']"
   ]
  },
  {
   "cell_type": "code",
   "execution_count": 104,
   "id": "c114fb0c-be1b-4fa6-bcde-79c33f81b26c",
   "metadata": {},
   "outputs": [],
   "source": [
    "popt, pcov = curve_fit(logistico, train_x, train_y)"
   ]
  },
  {
   "cell_type": "code",
   "execution_count": 106,
   "id": "d597a3e3-57ba-4f9c-8cac-c605931637c1",
   "metadata": {},
   "outputs": [
    {
     "name": "stdout",
     "output_type": "stream",
     "text": [
      "beta0 = -8.378733512549083 beta1 = 0.6491013806589347\n"
     ]
    }
   ],
   "source": [
    "print('beta0 =', popt[0], 'beta1 =', popt[1])"
   ]
  },
  {
   "cell_type": "code",
   "execution_count": 108,
   "id": "7d41e99a-3f74-4b4d-99a0-bea92e44df16",
   "metadata": {},
   "outputs": [],
   "source": [
    "# prediccion\n",
    "y_hat = logistico(test_x, *popt)"
   ]
  },
  {
   "cell_type": "code",
   "execution_count": 110,
   "id": "25f1039e-b5e0-483d-9b12-45c56b0b3b16",
   "metadata": {},
   "outputs": [
    {
     "name": "stdout",
     "output_type": "stream",
     "text": [
      "Mean absolute error: 0.02\n",
      "Residual sum of squares (MSE): 0.00\n",
      "R2-score: 0.99\n"
     ]
    }
   ],
   "source": [
    "# Evaluacion de los errores\n",
    "print('Mean absolute error: %.2f' % np.mean(np.absolute(y_hat - test_y)))\n",
    "print('Residual sum of squares (MSE): %.2f' % np.mean((y_hat - test_y)**2))\n",
    "print('R2-score: %.2f' % r2_score(y_hat, test_y))"
   ]
  },
  {
   "cell_type": "code",
   "execution_count": 114,
   "id": "704ffef8-59eb-4050-96f1-ac8b7f7b4df4",
   "metadata": {},
   "outputs": [
    {
     "data": {
      "image/png": "[encoded data removed]",
      "text/plain": [
       "<Figure size 640x480 with 1 Axes>"
      ]
     },
     "metadata": {},
     "output_type": "display_data"
    }
   ],
   "source": [
    "plt.plot(test_x, test_y, 'gs')\n",
    "plt.plot(test_x, y_hat, 'r')\n",
    "plt.xlabel('Independent Variable')\n",
    "plt.ylabel('Dependent Variable')\n",
    "plt.show()"
   ]
  },
  {
   "cell_type": "code",
   "execution_count": 132,
   "id": "6a1eaddc-575b-46e9-acdd-9a7fcddcb333",
   "metadata": {},
   "outputs": [
    {
     "name": "stdout",
     "output_type": "stream",
     "text": [
      "1.0\n"
     ]
    }
   ],
   "source": [
    "# prediccion\n",
    "y_predict = logistico(2022, -8.378733512549083, 0.6491013806589347)\n",
    "print(y_predict)"
   ]
  },
  {
   "cell_type": "code",
   "execution_count": 136,
   "id": "4c6e3fe1-bb08-4f80-bcb3-95c9f83ab269",
   "metadata": {},
   "outputs": [
    {
     "data": {
      "text/plain": [
       "1315351183524.544"
      ]
     },
     "execution_count": 136,
     "metadata": {},
     "output_type": "execute_result"
    }
   ],
   "source": [
    "val = df['GDP'].max()\n",
    "val"
   ]
  }
 ],
 "metadata": {
  "kernelspec": {
   "display_name": "Python 3 (ipykernel)",
   "language": "python",
   "name": "python3"
  },
  "language_info": {
   "codemirror_mode": {
    "name": "ipython",
    "version": 3
   },
   "file_extension": ".py",
   "mimetype": "text/x-python",
   "name": "python",
   "nbconvert_exporter": "python",
   "pygments_lexer": "ipython3",
   "version": "3.12.4"
  }
 },
 "nbformat": 4,
 "nbformat_minor": 5
}
