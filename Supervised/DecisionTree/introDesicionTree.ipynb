{
 "cells": [
  {
   "cell_type": "code",
   "execution_count": 1,
   "id": "b51471af-bf09-4505-96a8-56cbbaa01676",
   "metadata": {},
   "outputs": [],
   "source": [
    "import pandas as pd\n",
    "from sklearn.tree import DecisionTreeClassifier\n",
    "from sklearn.model_selection import train_test_split\n",
    "from sklearn import metrics\n",
    "import warnings \n",
    "warnings.filterwarnings(\"ignore\")"
   ]
  },
  {
   "cell_type": "code",
   "execution_count": 2,
   "id": "4276237b-853f-48ad-944e-ea56512297ff",
   "metadata": {},
   "outputs": [
    {
     "data": {
      "text/html": [
       "<div>\n",
       "<style scoped>\n",
       "    .dataframe tbody tr th:only-of-type {\n",
       "        vertical-align: middle;\n",
       "    }\n",
       "\n",
       "    .dataframe tbody tr th {\n",
       "        vertical-align: top;\n",
       "    }\n",
       "\n",
       "    .dataframe thead th {\n",
       "        text-align: right;\n",
       "    }\n",
       "</style>\n",
       "<table border=\"1\" class=\"dataframe\">\n",
       "  <thead>\n",
       "    <tr style=\"text-align: right;\">\n",
       "      <th></th>\n",
       "      <th>Age</th>\n",
       "      <th>Sex</th>\n",
       "      <th>BP</th>\n",
       "      <th>Cholesterol</th>\n",
       "      <th>Na_to_K</th>\n",
       "      <th>Drug</th>\n",
       "    </tr>\n",
       "  </thead>\n",
       "  <tbody>\n",
       "    <tr>\n",
       "      <th>0</th>\n",
       "      <td>23</td>\n",
       "      <td>F</td>\n",
       "      <td>HIGH</td>\n",
       "      <td>HIGH</td>\n",
       "      <td>25.355</td>\n",
       "      <td>drugY</td>\n",
       "    </tr>\n",
       "    <tr>\n",
       "      <th>1</th>\n",
       "      <td>47</td>\n",
       "      <td>M</td>\n",
       "      <td>LOW</td>\n",
       "      <td>HIGH</td>\n",
       "      <td>13.093</td>\n",
       "      <td>drugC</td>\n",
       "    </tr>\n",
       "    <tr>\n",
       "      <th>2</th>\n",
       "      <td>47</td>\n",
       "      <td>M</td>\n",
       "      <td>LOW</td>\n",
       "      <td>HIGH</td>\n",
       "      <td>10.114</td>\n",
       "      <td>drugC</td>\n",
       "    </tr>\n",
       "    <tr>\n",
       "      <th>3</th>\n",
       "      <td>28</td>\n",
       "      <td>F</td>\n",
       "      <td>NORMAL</td>\n",
       "      <td>HIGH</td>\n",
       "      <td>7.798</td>\n",
       "      <td>drugX</td>\n",
       "    </tr>\n",
       "    <tr>\n",
       "      <th>4</th>\n",
       "      <td>61</td>\n",
       "      <td>F</td>\n",
       "      <td>LOW</td>\n",
       "      <td>HIGH</td>\n",
       "      <td>18.043</td>\n",
       "      <td>drugY</td>\n",
       "    </tr>\n",
       "    <tr>\n",
       "      <th>...</th>\n",
       "      <td>...</td>\n",
       "      <td>...</td>\n",
       "      <td>...</td>\n",
       "      <td>...</td>\n",
       "      <td>...</td>\n",
       "      <td>...</td>\n",
       "    </tr>\n",
       "    <tr>\n",
       "      <th>195</th>\n",
       "      <td>56</td>\n",
       "      <td>F</td>\n",
       "      <td>LOW</td>\n",
       "      <td>HIGH</td>\n",
       "      <td>11.567</td>\n",
       "      <td>drugC</td>\n",
       "    </tr>\n",
       "    <tr>\n",
       "      <th>196</th>\n",
       "      <td>16</td>\n",
       "      <td>M</td>\n",
       "      <td>LOW</td>\n",
       "      <td>HIGH</td>\n",
       "      <td>12.006</td>\n",
       "      <td>drugC</td>\n",
       "    </tr>\n",
       "    <tr>\n",
       "      <th>197</th>\n",
       "      <td>52</td>\n",
       "      <td>M</td>\n",
       "      <td>NORMAL</td>\n",
       "      <td>HIGH</td>\n",
       "      <td>9.894</td>\n",
       "      <td>drugX</td>\n",
       "    </tr>\n",
       "    <tr>\n",
       "      <th>198</th>\n",
       "      <td>23</td>\n",
       "      <td>M</td>\n",
       "      <td>NORMAL</td>\n",
       "      <td>NORMAL</td>\n",
       "      <td>14.020</td>\n",
       "      <td>drugX</td>\n",
       "    </tr>\n",
       "    <tr>\n",
       "      <th>199</th>\n",
       "      <td>40</td>\n",
       "      <td>F</td>\n",
       "      <td>LOW</td>\n",
       "      <td>NORMAL</td>\n",
       "      <td>11.349</td>\n",
       "      <td>drugX</td>\n",
       "    </tr>\n",
       "  </tbody>\n",
       "</table>\n",
       "<p>200 rows × 6 columns</p>\n",
       "</div>"
      ],
      "text/plain": [
       "     Age Sex      BP Cholesterol  Na_to_K   Drug\n",
       "0     23   F    HIGH        HIGH   25.355  drugY\n",
       "1     47   M     LOW        HIGH   13.093  drugC\n",
       "2     47   M     LOW        HIGH   10.114  drugC\n",
       "3     28   F  NORMAL        HIGH    7.798  drugX\n",
       "4     61   F     LOW        HIGH   18.043  drugY\n",
       "..   ...  ..     ...         ...      ...    ...\n",
       "195   56   F     LOW        HIGH   11.567  drugC\n",
       "196   16   M     LOW        HIGH   12.006  drugC\n",
       "197   52   M  NORMAL        HIGH    9.894  drugX\n",
       "198   23   M  NORMAL      NORMAL   14.020  drugX\n",
       "199   40   F     LOW      NORMAL   11.349  drugX\n",
       "\n",
       "[200 rows x 6 columns]"
      ]
     },
     "execution_count": 2,
     "metadata": {},
     "output_type": "execute_result"
    }
   ],
   "source": [
    "drugs = pd.read_csv(\"Drugs Data.csv\")\n",
    "drugs"
   ]
  },
  {
   "cell_type": "code",
   "execution_count": 3,
   "id": "09f023cd-01ab-4334-8751-48de1fdb20a3",
   "metadata": {},
   "outputs": [],
   "source": [
    "feature_cols = ['Age', 'Sex', 'BP', 'Cholesterol', 'Na_to_K']\n",
    "x = drugs[feature_cols].values\n",
    "y = drugs.Drug"
   ]
  },
  {
   "cell_type": "code",
   "execution_count": 4,
   "id": "41397a34-2eee-48c5-a3c1-c9af6f1a8f1c",
   "metadata": {},
   "outputs": [],
   "source": [
    "from sklearn import preprocessing\n",
    "\n",
    "cod_Sex = preprocessing.LabelEncoder()\n",
    "cod_Sex.fit(['F', 'M'])\n",
    "x[:, 1] = cod_Sex.transform(x[:, 1])\n",
    "\n",
    "cod_Bp = preprocessing.LabelEncoder()\n",
    "cod_Bp.fit(['HIGH', 'NORMAL', 'LOW'])\n",
    "x[:, 2] = cod_Bp.transform(x[:, 2])\n",
    "\n",
    "cod_Cholesterol = preprocessing.LabelEncoder()\n",
    "cod_Cholesterol.fit(['NORMAL', 'HIGH'])\n",
    "x[:, 3] = cod_Cholesterol.transform(x[:, 3])"
   ]
  },
  {
   "cell_type": "code",
   "execution_count": 5,
   "id": "f90ca040-d164-4fda-ac25-99b30a68bc94",
   "metadata": {},
   "outputs": [
    {
     "data": {
      "text/plain": [
       "array([[23, 0, 0, 0, 25.355],\n",
       "       [47, 1, 1, 0, 13.093],\n",
       "       [47, 1, 1, 0, 10.114],\n",
       "       [28, 0, 2, 0, 7.798],\n",
       "       [61, 0, 1, 0, 18.043],\n",
       "       [22, 0, 2, 0, 8.607]], dtype=object)"
      ]
     },
     "execution_count": 5,
     "metadata": {},
     "output_type": "execute_result"
    }
   ],
   "source": [
    "x[:6]"
   ]
  },
  {
   "cell_type": "code",
   "execution_count": 6,
   "id": "584991a2-27e9-4eb0-92e5-1ee8fb62bab9",
   "metadata": {},
   "outputs": [
    {
     "data": {
      "text/plain": [
       "0    drugY\n",
       "1    drugC\n",
       "2    drugC\n",
       "3    drugX\n",
       "4    drugY\n",
       "5    drugX\n",
       "Name: Drug, dtype: object"
      ]
     },
     "execution_count": 6,
     "metadata": {},
     "output_type": "execute_result"
    }
   ],
   "source": [
    "y[:6]"
   ]
  },
  {
   "cell_type": "code",
   "execution_count": 7,
   "id": "c3b2e6a4-a3cc-423f-bfc2-e8743580d444",
   "metadata": {},
   "outputs": [],
   "source": [
    "# Conjuntos de entrenamiento y de prueba\n",
    "x_train, x_test, y_train, y_test = train_test_split(x, y, test_size = 0.20, random_state = 1)"
   ]
  },
  {
   "cell_type": "markdown",
   "id": "7929d27f-b865-457d-84ab-78ac7d05fa65",
   "metadata": {},
   "source": [
    "# Modelo Decision Tree con criterio \"gini\""
   ]
  },
  {
   "cell_type": "code",
   "execution_count": 9,
   "id": "e204f729-9f9e-45b2-8cc9-a2ab45d925ab",
   "metadata": {},
   "outputs": [],
   "source": [
    "# Modelo arbol de decision criterio \"gini\"\n",
    "clf = DecisionTreeClassifier(criterion = \"gini\")  # probado para el piso max_depth = 4\n",
    "clf = clf.fit(x_train, y_train)"
   ]
  },
  {
   "cell_type": "code",
   "execution_count": 10,
   "id": "dd6882eb-30eb-4415-b154-aa8d42a69d09",
   "metadata": {},
   "outputs": [
    {
     "data": {
      "text/plain": [
       "array([[ 4,  0,  0,  0,  0],\n",
       "       [ 0,  2,  0,  0,  0],\n",
       "       [ 0,  0,  4,  0,  0],\n",
       "       [ 0,  0,  0, 13,  0],\n",
       "       [ 0,  0,  0,  0, 17]])"
      ]
     },
     "execution_count": 10,
     "metadata": {},
     "output_type": "execute_result"
    }
   ],
   "source": [
    "# matriz de confusion\n",
    "from sklearn.metrics import confusion_matrix\n",
    "y_pred = clf.predict(x_test)\n",
    "cm = confusion_matrix(y_test, y_pred)\n",
    "cm"
   ]
  },
  {
   "cell_type": "code",
   "execution_count": 11,
   "id": "17ae577e-19e5-4e1a-8577-97b565de17c2",
   "metadata": {},
   "outputs": [
    {
     "name": "stdout",
     "output_type": "stream",
     "text": [
      "              precision    recall  f1-score   support\n",
      "\n",
      "       drugA       1.00      1.00      1.00         4\n",
      "       drugB       1.00      1.00      1.00         2\n",
      "       drugC       1.00      1.00      1.00         4\n",
      "       drugX       1.00      1.00      1.00        13\n",
      "       drugY       1.00      1.00      1.00        17\n",
      "\n",
      "    accuracy                           1.00        40\n",
      "   macro avg       1.00      1.00      1.00        40\n",
      "weighted avg       1.00      1.00      1.00        40\n",
      "\n"
     ]
    }
   ],
   "source": [
    "# Estadisticas de desempeño\n",
    "from sklearn.metrics import classification_report\n",
    "print(classification_report(y_test, y_pred))"
   ]
  },
  {
   "cell_type": "markdown",
   "id": "b789b556-c6ef-4151-bb9e-889689ca9611",
   "metadata": {},
   "source": [
    "# Modelo Decision Tree con criterio \"entropy\""
   ]
  },
  {
   "cell_type": "code",
   "execution_count": 13,
   "id": "f3b6a70c-bc14-4384-8f7e-312df5cb7636",
   "metadata": {},
   "outputs": [],
   "source": [
    "# Modelo arbol de decision criterio \"gini\"\n",
    "clf = DecisionTreeClassifier(criterion = \"entropy\") # probado para el piso max_depth = 6, \n",
    "clf = clf.fit(x_train, y_train)                     # no deja aumentar mas pisos de los que da por defecto"
   ]
  },
  {
   "cell_type": "code",
   "execution_count": 14,
   "id": "cc4b33b0-5fda-4062-98a9-e058ead79805",
   "metadata": {},
   "outputs": [
    {
     "data": {
      "text/plain": [
       "array([[ 4,  0,  0,  0,  0],\n",
       "       [ 0,  2,  0,  0,  0],\n",
       "       [ 0,  0,  4,  0,  0],\n",
       "       [ 0,  0,  0, 13,  0],\n",
       "       [ 0,  0,  0,  0, 17]])"
      ]
     },
     "execution_count": 14,
     "metadata": {},
     "output_type": "execute_result"
    }
   ],
   "source": [
    "# matriz de confusion\n",
    "y_pred = clf.predict(x_test)\n",
    "cm = confusion_matrix(y_test, y_pred)\n",
    "cm"
   ]
  },
  {
   "cell_type": "code",
   "execution_count": 15,
   "id": "264a8449-9db1-4bd3-94b5-1f51ae181bc2",
   "metadata": {},
   "outputs": [
    {
     "name": "stdout",
     "output_type": "stream",
     "text": [
      "              precision    recall  f1-score   support\n",
      "\n",
      "       drugA       1.00      1.00      1.00         4\n",
      "       drugB       1.00      1.00      1.00         2\n",
      "       drugC       1.00      1.00      1.00         4\n",
      "       drugX       1.00      1.00      1.00        13\n",
      "       drugY       1.00      1.00      1.00        17\n",
      "\n",
      "    accuracy                           1.00        40\n",
      "   macro avg       1.00      1.00      1.00        40\n",
      "weighted avg       1.00      1.00      1.00        40\n",
      "\n"
     ]
    }
   ],
   "source": [
    "# Estadisticas de desempeño\n",
    "print(classification_report(y_test, y_pred))"
   ]
  },
  {
   "cell_type": "code",
   "execution_count": 16,
   "id": "7a0a8ce1-fe65-49de-bf5e-6457a71770df",
   "metadata": {},
   "outputs": [],
   "source": [
    "from sklearn import tree\n",
    "import graphviz\n",
    "import pydotplus\n",
    "from PIL import Image"
   ]
  },
  {
   "cell_type": "code",
   "execution_count": 17,
   "id": "453d392a-f6d4-46cb-9a7e-af7e59e542c0",
   "metadata": {},
   "outputs": [],
   "source": [
    "# Creacion de informacion para el arbol (reglas de decision)\n",
    "dot_data = tree.export_graphviz(clf, out_file = None, feature_names = feature_cols)\n",
    "\n",
    "# Creacion de la grafica del arbol\n",
    "graph = pydotplus.graph_from_dot_data(dot_data)"
   ]
  },
  {
   "cell_type": "code",
   "execution_count": 18,
   "id": "ea3a96fe-bb76-4248-ac1d-ac6627783849",
   "metadata": {},
   "outputs": [],
   "source": [
    "# Creacion del arbol en formato PNG\n",
    "#graph.write_png(\"droges1.png\")\n",
    "\n",
    "#image = Image.open(\"droges1.png\")\n",
    "#image.show()"
   ]
  },
  {
   "cell_type": "markdown",
   "id": "86af4437-4be3-456a-92d3-ddc356f57de5",
   "metadata": {},
   "source": [
    "# Prediccion para el nuevo paciente"
   ]
  },
  {
   "cell_type": "code",
   "execution_count": 20,
   "id": "996ca688-f410-4833-803b-1e0dc1481ffc",
   "metadata": {},
   "outputs": [
    {
     "data": {
      "text/plain": [
       "array([[50.   ,  0.   ,  0.   ,  1.   , 15.302]])"
      ]
     },
     "execution_count": 20,
     "metadata": {},
     "output_type": "execute_result"
    }
   ],
   "source": [
    "import numpy as np\n",
    "new_px = [[50, 0, 0, 1, 15.302]]\n",
    "x_new = np.asarray(new_px)\n",
    "x_new"
   ]
  },
  {
   "cell_type": "code",
   "execution_count": 40,
   "id": "bc37e5e7-437b-4d65-b2b8-9416c79ba78a",
   "metadata": {},
   "outputs": [
    {
     "data": {
      "text/plain": [
       "array(['drugY'], dtype=object)"
      ]
     },
     "execution_count": 40,
     "metadata": {},
     "output_type": "execute_result"
    }
   ],
   "source": [
    "pred = clf.predict(x_new)\n",
    "pred"
   ]
  }
 ],
 "metadata": {
  "kernelspec": {
   "display_name": "Python 3 (ipykernel)",
   "language": "python",
   "name": "python3"
  },
  "language_info": {
   "codemirror_mode": {
    "name": "ipython",
    "version": 3
   },
   "file_extension": ".py",
   "mimetype": "text/x-python",
   "name": "python",
   "nbconvert_exporter": "python",
   "pygments_lexer": "ipython3",
   "version": "3.12.4"
  }
 },
 "nbformat": 4,
 "nbformat_minor": 5
}
